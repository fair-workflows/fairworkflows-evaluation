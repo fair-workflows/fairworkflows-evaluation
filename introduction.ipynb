{
 "cells": [
  {
   "cell_type": "markdown",
   "id": "cultural-slide",
   "metadata": {},
   "source": [
    "# Fair Workflows evaluation"
   ]
  },
  {
   "cell_type": "markdown",
   "id": "sapphire-moscow",
   "metadata": {},
   "source": [
    "## Using the fairworkflows library\n",
    "The `fairworkflows` library is intended to provide a simple way to make your 'normal' python code FAIR, automatically generating a prospective provenance description of the workflow (prior to execution) and a retrospective provenance description during execution. All these semantic descriptions are in the form of RDF triples, which can be published as a series of nanopublications.\n",
    "\n",
    "## How do I use it?\n",
    "The library introduces two decorators: `is_fairstep` and `is_fairworkflow`. `is_fairstep` is used to mark functions that are 'steps' in your processing, and `is_fairworkflow` is used to mark functions which combine these steps into the overall 'workflow'.\n",
    "\n",
    "This should hopefully become clearer with an example:\n",
    "\n",
    "### 1. Import the decorators"
   ]
  },
  {
   "cell_type": "code",
   "execution_count": 15,
   "id": "initial-industry",
   "metadata": {},
   "outputs": [],
   "source": [
    "from fairworkflows import is_fairworkflow, is_fairstep, FairStep, FairWorkflow"
   ]
  },
  {
   "cell_type": "markdown",
   "id": "approximate-investigator",
   "metadata": {},
   "source": [
    "### 2. Define your steps\n",
    "Each 'step' should be in a function. The arguments to the function should ideally have type hinting. You must mark the function using the is_fairstep decorator, and provide a 'label' - a string that gives a more verbose title to the step."
   ]
  },
  {
   "cell_type": "code",
   "execution_count": 16,
   "id": "annual-effectiveness",
   "metadata": {},
   "outputs": [],
   "source": [
    "@is_fairstep(label='Addition')\n",
    "def add(a:float, b:float) -> float:\n",
    "    \"\"\"Adding up numbers!\"\"\"\n",
    "    return a + b"
   ]
  },
  {
   "cell_type": "code",
   "execution_count": 17,
   "id": "processed-picture",
   "metadata": {},
   "outputs": [],
   "source": [
    "@is_fairstep(label='Subtraction')\n",
    "def sub(a: float, b: float) -> float:\n",
    "    \"\"\"Subtracting numbers.\"\"\"\n",
    "    return a - b"
   ]
  },
  {
   "cell_type": "code",
   "execution_count": 18,
   "id": "willing-witch",
   "metadata": {},
   "outputs": [],
   "source": [
    "@is_fairstep(label='Multiplication')\n",
    "def mul(a: float, b: float) -> float:\n",
    "    \"\"\"Multiplying numbers.\"\"\"\n",
    "    return a * b"
   ]
  },
  {
   "cell_type": "code",
   "execution_count": 19,
   "id": "bright-cover",
   "metadata": {},
   "outputs": [],
   "source": [
    "@is_fairstep(label='A strange step with little use')\n",
    "def weird(a: float, b:float) -> float:\n",
    "    \"\"\"A weird function\"\"\"\n",
    "    return a * 2 + b * 4\n",
    "    "
   ]
  },
  {
   "cell_type": "markdown",
   "id": "pointed-accident",
   "metadata": {},
   "source": [
    "### Define your workflow using @fairworkflow\n",
    "Now write a function which describes your workflow. Mark this function with the @is_fairworkflow decorator."
   ]
  },
  {
   "cell_type": "code",
   "execution_count": 20,
   "id": "delayed-shopping",
   "metadata": {},
   "outputs": [],
   "source": [
    "@is_fairworkflow(label='My Workflow')\n",
    "def my_workflow(in1, in2, in3):\n",
    "    \"\"\"\n",
    "    A simple addition, subtraction, multiplication workflow\n",
    "    \"\"\"\n",
    "    t1 = add(in1, in2)\n",
    "    t2 = sub(in1, in2)\n",
    "    t3 = mul(weird(t1, in3), t2)\n",
    "    return t3"
   ]
  },
  {
   "cell_type": "markdown",
   "id": "union-iraqi",
   "metadata": {},
   "source": [
    "## Create an instance of your workflow and display it\n",
    "Now that you have marked your steps and workflow, you are ready to create a FAIR workflow from it:"
   ]
  },
  {
   "cell_type": "code",
   "execution_count": 21,
   "id": "dynamic-poker",
   "metadata": {},
   "outputs": [],
   "source": [
    "fw = FairWorkflow.from_function(my_workflow)"
   ]
  },
  {
   "cell_type": "markdown",
   "id": "acceptable-football",
   "metadata": {},
   "source": [
    "If you check the type of `fw` you will see that you have a `FairWorkflow` object."
   ]
  },
  {
   "cell_type": "code",
   "execution_count": 22,
   "id": "hearing-overhead",
   "metadata": {},
   "outputs": [
    {
     "data": {
      "text/plain": [
       "fairworkflows.fairworkflow.FairWorkflow"
      ]
     },
     "execution_count": 22,
     "metadata": {},
     "output_type": "execute_result"
    }
   ],
   "source": [
    "type(fw)"
   ]
  },
  {
   "cell_type": "markdown",
   "id": "obvious-primary",
   "metadata": {},
   "source": [
    "You can optionally display this workflow object graphically, using its `display()` method:"
   ]
  },
  {
   "cell_type": "code",
   "execution_count": 23,
   "id": "random-grocery",
   "metadata": {},
   "outputs": [
    {
     "data": {
      "image/svg+xml": [
       "<svg height=\"218pt\" viewBox=\"0.00 0.00 141.55 218.00\" width=\"142pt\" xmlns=\"http://www.w3.org/2000/svg\" xmlns:xlink=\"http://www.w3.org/1999/xlink\">\n",
       "<g class=\"graph\" id=\"graph0\" transform=\"scale(1 1) rotate(0) translate(4 214)\">\n",
       "<!-- 140266764094352 -->\n",
       "<g class=\"node\" id=\"node1\">\n",
       "<title>140266764094352</title>\n",
       "<ellipse cx=\"68.55\" cy=\"-18\" fill=\"none\" rx=\"27\" ry=\"18\" stroke=\"black\"/>\n",
       "<text font-family=\"Times,serif\" font-size=\"14.00\" text-anchor=\"middle\" x=\"68.55\" y=\"-14.3\">mul</text>\n",
       "</g>\n",
       "<!-- 140266764093136 -->\n",
       "<g class=\"node\" id=\"node2\">\n",
       "<title>140266764093136</title>\n",
       "<ellipse cx=\"30.55\" cy=\"-105\" fill=\"none\" rx=\"30.59\" ry=\"18\" stroke=\"black\"/>\n",
       "<text font-family=\"Times,serif\" font-size=\"14.00\" text-anchor=\"middle\" x=\"30.55\" y=\"-101.3\">weird</text>\n",
       "</g>\n",
       "<!-- 140266764093136&#45;&gt;140266764094352 -->\n",
       "<g class=\"edge\" id=\"edge1\">\n",
       "<title>140266764093136-&gt;140266764094352</title>\n",
       "<path d=\"M38.05,-87.21C43.45,-75.14 50.83,-58.64 56.97,-44.89\" fill=\"none\" stroke=\"black\"/>\n",
       "<polygon fill=\"black\" points=\"60.3,-46.03 61.18,-35.47 53.91,-43.17 60.3,-46.03\" stroke=\"black\"/>\n",
       "<text font-family=\"Times,serif\" font-size=\"14.00\" text-anchor=\"middle\" x=\"56.05\" y=\"-57.8\">a</text>\n",
       "</g>\n",
       "<!-- 140266763901712 -->\n",
       "<g class=\"node\" id=\"node3\">\n",
       "<title>140266763901712</title>\n",
       "<ellipse cx=\"30.55\" cy=\"-192\" fill=\"none\" rx=\"27\" ry=\"18\" stroke=\"black\"/>\n",
       "<text font-family=\"Times,serif\" font-size=\"14.00\" text-anchor=\"middle\" x=\"30.55\" y=\"-188.3\">add</text>\n",
       "</g>\n",
       "<!-- 140266763901712&#45;&gt;140266764093136 -->\n",
       "<g class=\"edge\" id=\"edge2\">\n",
       "<title>140266763901712-&gt;140266764093136</title>\n",
       "<path d=\"M30.55,-173.8C30.55,-162.16 30.55,-146.55 30.55,-133.24\" fill=\"none\" stroke=\"black\"/>\n",
       "<polygon fill=\"black\" points=\"34.05,-133.18 30.55,-123.18 27.05,-133.18 34.05,-133.18\" stroke=\"black\"/>\n",
       "<text font-family=\"Times,serif\" font-size=\"14.00\" text-anchor=\"middle\" x=\"34.05\" y=\"-144.8\">a</text>\n",
       "</g>\n",
       "<!-- 140266762325904 -->\n",
       "<g class=\"node\" id=\"node4\">\n",
       "<title>140266762325904</title>\n",
       "<ellipse cx=\"106.55\" cy=\"-105\" fill=\"none\" rx=\"27\" ry=\"18\" stroke=\"black\"/>\n",
       "<text font-family=\"Times,serif\" font-size=\"14.00\" text-anchor=\"middle\" x=\"106.55\" y=\"-101.3\">sub</text>\n",
       "</g>\n",
       "<!-- 140266762325904&#45;&gt;140266764094352 -->\n",
       "<g class=\"edge\" id=\"edge3\">\n",
       "<title>140266762325904-&gt;140266764094352</title>\n",
       "<path d=\"M99.22,-87.61C93.81,-75.5 86.33,-58.77 80.11,-44.86\" fill=\"none\" stroke=\"black\"/>\n",
       "<polygon fill=\"black\" points=\"83.13,-43.04 75.85,-35.34 76.74,-45.9 83.13,-43.04\" stroke=\"black\"/>\n",
       "<text font-family=\"Times,serif\" font-size=\"14.00\" text-anchor=\"middle\" x=\"93.05\" y=\"-57.8\">b</text>\n",
       "</g>\n",
       "</g>\n",
       "</svg>"
      ],
      "text/plain": [
       "<IPython.core.display.SVG object>"
      ]
     },
     "metadata": {},
     "output_type": "display_data"
    }
   ],
   "source": [
    "fw.display()"
   ]
  },
  {
   "cell_type": "markdown",
   "id": "excited-stick",
   "metadata": {},
   "source": [
    "## Publish the (prospective) workflow\n",
    "Now that you have a workflow, you may already publish the prospective provenance as a series of nanopublications:"
   ]
  },
  {
   "cell_type": "code",
   "execution_count": 24,
   "id": "intermediate-raleigh",
   "metadata": {},
   "outputs": [
    {
     "name": "stdout",
     "output_type": "stream",
     "text": [
      "Published to http://purl.org/np/RAd0j0a6xcn-g6GC5TYpgKYmVJa_McGRgX_1SNzl1ceNI\n",
      "Published concept to http://purl.org/np/RAd0j0a6xcn-g6GC5TYpgKYmVJa_McGRgX_1SNzl1ceNI#step\n",
      "Published to http://purl.org/np/RAb_qxuAqPHXTl2ERBD_6RWo07zbgC5m_5mn3vjh_9v0M\n",
      "Published concept to http://purl.org/np/RAb_qxuAqPHXTl2ERBD_6RWo07zbgC5m_5mn3vjh_9v0M#step\n",
      "Published to http://purl.org/np/RA7hVH4X37x6BHrGe-HH4i3i78BtvflDqb9qVQRU_7rwg\n",
      "Published concept to http://purl.org/np/RA7hVH4X37x6BHrGe-HH4i3i78BtvflDqb9qVQRU_7rwg#step\n",
      "Published to http://purl.org/np/RA2m27ux_IT5wV8CCi_0kY2kT-XfzXlFbeboyzawKkrzo\n",
      "Published concept to http://purl.org/np/RA2m27ux_IT5wV8CCi_0kY2kT-XfzXlFbeboyzawKkrzo#step\n",
      "Published to http://purl.org/np/RAlBdgSVSeSWSeMb4V8koEksFu40xjThmXJJopStyBeOY\n",
      "Published concept to http://purl.org/np/RAlBdgSVSeSWSeMb4V8koEksFu40xjThmXJJopStyBeOY#plan\n"
     ]
    },
    {
     "data": {
      "text/plain": [
       "{'nanopub_uri': 'http://purl.org/np/RAlBdgSVSeSWSeMb4V8koEksFu40xjThmXJJopStyBeOY',\n",
       " 'concept_uri': 'http://purl.org/np/RAlBdgSVSeSWSeMb4V8koEksFu40xjThmXJJopStyBeOY#plan'}"
      ]
     },
     "execution_count": 24,
     "metadata": {},
     "output_type": "execute_result"
    }
   ],
   "source": [
    "fw.publish_as_nanopub(publish_steps=True, use_test_server=True)"
   ]
  },
  {
   "cell_type": "markdown",
   "id": "retired-springfield",
   "metadata": {},
   "source": [
    "## Execute your workflow using .execute()\n",
    "You can now execute your workflow. This workflow took three input parameters, so we must provide these are arguments to its `execute()` method."
   ]
  },
  {
   "cell_type": "code",
   "execution_count": 25,
   "id": "suspended-concentrate",
   "metadata": {},
   "outputs": [
    {
     "data": {
      "text/plain": [
       "-66"
      ]
     },
     "execution_count": 25,
     "metadata": {},
     "output_type": "execute_result"
    }
   ],
   "source": [
    "result, prov = fw.execute(1, 4, 3)\n",
    "result"
   ]
  },
  {
   "cell_type": "markdown",
   "id": "established-result",
   "metadata": {},
   "source": [
    "### Retrospective prov for each step\n",
    "You can iterate through a WorkflowRetroProv object to get the StepRetroProv objects for each step. Print these to see the RDF they contain (input/output variable values, start and end datetime of the step's execution etc.) "
   ]
  },
  {
   "cell_type": "markdown",
   "id": "capital-actress",
   "metadata": {},
   "source": [
    "### Publish the retrospective provenance\n",
    "You can use the .publish_as_nanopub() method as with FairStep and FairWorkflow objects. This publishes a nanopub per step and one for the whole workflow, mirroring the prospective RDF."
   ]
  },
  {
   "cell_type": "code",
   "execution_count": 26,
   "id": "chinese-palestinian",
   "metadata": {},
   "outputs": [
    {
     "name": "stdout",
     "output_type": "stream",
     "text": [
      "Published to http://purl.org/np/RABhzDiNxo-trqwQl0JrR-SzdCYCDvBmH2GVA_sY7vGwg\n",
      "Published concept to http://purl.org/np/RABhzDiNxo-trqwQl0JrR-SzdCYCDvBmH2GVA_sY7vGwg#fairstepprov\n",
      "Published to http://purl.org/np/RAYvHBcDbTBwMzy2hDN-NNB9Kq-0w9kKhtm9niUcz0SOw\n",
      "Published concept to http://purl.org/np/RAYvHBcDbTBwMzy2hDN-NNB9Kq-0w9kKhtm9niUcz0SOw#fairstepprov\n",
      "Published to http://purl.org/np/RAYTvxRGZjTCDuF8KTFuGSZP7hj8RU1uXNQFAlUmU7Crs\n",
      "Published concept to http://purl.org/np/RAYTvxRGZjTCDuF8KTFuGSZP7hj8RU1uXNQFAlUmU7Crs#fairstepprov\n",
      "Published to http://purl.org/np/RA4_Q3furwrSbn5Rmcq1eLVrDLDIlR9jRq1zjaEOoiLPg\n",
      "Published concept to http://purl.org/np/RA4_Q3furwrSbn5Rmcq1eLVrDLDIlR9jRq1zjaEOoiLPg#fairstepprov\n",
      "Published to http://purl.org/np/RAeNhLwnAVbD3FTcRFok2i9WsLO0-vzZDz7GN290axV2Q\n",
      "Published concept to http://purl.org/np/RAeNhLwnAVbD3FTcRFok2i9WsLO0-vzZDz7GN290axV2Q#fairworkflowprov\n"
     ]
    },
    {
     "data": {
      "text/plain": [
       "{'nanopub_uri': 'http://purl.org/np/RAeNhLwnAVbD3FTcRFok2i9WsLO0-vzZDz7GN290axV2Q',\n",
       " 'concept_uri': 'http://purl.org/np/RAeNhLwnAVbD3FTcRFok2i9WsLO0-vzZDz7GN290axV2Q#fairworkflowprov'}"
      ]
     },
     "execution_count": 26,
     "metadata": {},
     "output_type": "execute_result"
    }
   ],
   "source": [
    "prov.publish_as_nanopub(use_test_server=True)"
   ]
  },
  {
   "cell_type": "markdown",
   "id": "arctic-christianity",
   "metadata": {},
   "source": [
    "The last nanopub (whose URI ends in #fairworkflowprov) contains the links to all of the individual step retrospective provenances."
   ]
  },
  {
   "cell_type": "markdown",
   "id": "mineral-paintball",
   "metadata": {},
   "source": [
    "### Using FAIRWorkflows Jupyter Lab extension\n",
    "You should see a tab in the far left sidebar of this window called 'FAIRWorkflows'. Click on this tab and the extension widget should open on the left. It will look something like this:\n",
    "\n",
    "![image.png](introimg/fairworkflows_widget.png)\n",
    "\n",
    "You can search for existing steps using text in the search bar. Results will appear below, as you type. Clicking on a result will inject that step's description into the notebook, into a new cell beneath the currently selected one. Ensure that 'raw' is selected as the `Inject` option:\n",
    "\n",
    "![image.png](introimg/inject.png)"
   ]
  },
  {
   "cell_type": "markdown",
   "id": "white-energy",
   "metadata": {},
   "source": [
    "Try typing \"rotate\" into the Search field. After a brief moment, some search results should appear. Click on one and it will fetch the step from that nanopublication and inject it into this notebook. Please check that you have selected the notebook cell below this one, so that it is injected there."
   ]
  },
  {
   "cell_type": "code",
   "execution_count": null,
   "id": "opposed-lighting",
   "metadata": {},
   "outputs": [],
   "source": [
    "# Select this cell before clicking on the search result. The code should then be injected into the cell beneath this one."
   ]
  },
  {
   "cell_type": "markdown",
   "id": "cathedral-papua",
   "metadata": {},
   "source": [
    "If the code for the `rotate` step correctly appeared (a python function starting with @is_fairstep), then congratulations! You have finished the tutorial section and may move on to the short tasks below. If you are having difficulties then please don't hesitate to contact the evaluation organisers."
   ]
  }
 ],
 "metadata": {
  "kernelspec": {
   "display_name": "Python 3",
   "language": "python",
   "name": "python3"
  },
  "language_info": {
   "codemirror_mode": {
    "name": "ipython",
    "version": 3
   },
   "file_extension": ".py",
   "mimetype": "text/x-python",
   "name": "python",
   "nbconvert_exporter": "python",
   "pygments_lexer": "ipython3",
   "version": "3.7.9"
  }
 },
 "nbformat": 4,
 "nbformat_minor": 5
}
