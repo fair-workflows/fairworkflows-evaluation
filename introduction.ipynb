{
 "cells": [
  {
   "cell_type": "markdown",
   "id": "weekly-frost",
   "metadata": {},
   "source": [
    "# Introduction to fairworkflows\n",
    "\n",
    "Welcome to the fairworkflows evaluation! Please check the following carefully to ensure you have everything before you start:\n",
    "\n",
    "### What do I need?\n",
    "\n",
    "You need to install the `fairworkflows` python library (version 0.2.6) and the `FAIRWorkflowsExtension` (a Jupyter Lab extension). You should also ideally be running `python3.7`.\n",
    "\n",
    "### Installing fairworkflows v0.2.6\n",
    "`fairworkflows` is available on the Python Package Index (pyPI) so you should be able to install it by simply typing:\n",
    "\n",
    "```\n",
    "pip install fairworkflows==0.2.6\n",
    "```\n",
    "\n",
    "On some systems, `pip` is still mapped to python 2.7, so you might need to try `python3 -m pip install fairworkflows==0.2.6` instead.\n",
    "\n",
    "### Installing FAIRWorkflowsExtension\n",
    "\n",
    "First clone the github repo that contains the extension:\n",
    "```\n",
    "git clone https://github.com/fair-workflows/FAIRWorkflowsExtension\n",
    "```\n",
    "\n",
    "Then, within the repo, you can call the installation script:\n",
    "```\n",
    "bash install_mac.sh\n",
    "```\n",
    "\n",
    "This should build the extension and install it.\n"
   ]
  },
  {
   "cell_type": "markdown",
   "id": "soviet-exchange",
   "metadata": {},
   "source": [
    "## Checking your installation\n",
    "Once you have followed the above installation instructions, please open this introduction notebook in Jupyter Lab and perform the following checks:"
   ]
  },
  {
   "cell_type": "markdown",
   "id": "pregnant-refrigerator",
   "metadata": {},
   "source": [
    "### Checking fairworkflows library installation\n",
    "Try executing the following command:"
   ]
  },
  {
   "cell_type": "code",
   "execution_count": 6,
   "id": "stock-waste",
   "metadata": {},
   "outputs": [],
   "source": [
    "import fairworkflows"
   ]
  },
  {
   "cell_type": "markdown",
   "id": "capable-footage",
   "metadata": {},
   "source": [
    "If there are any errors then something has gone wrong with the installation and you should contact the evaluation organisers so that we can improve the installation instructions. If no errors appear, then check the version of the library that is being used:"
   ]
  },
  {
   "cell_type": "code",
   "execution_count": 10,
   "id": "saved-marijuana",
   "metadata": {},
   "outputs": [
    {
     "name": "stdout",
     "output_type": "stream",
     "text": [
      "0.2.6\n"
     ]
    }
   ],
   "source": [
    "from fairworkflows import _version\n",
    "print(_version.__version__)"
   ]
  },
  {
   "cell_type": "markdown",
   "id": "ordinary-merchant",
   "metadata": {},
   "source": [
    "This should read `0.2.6`. If any other version number is given, then you may already have an older installation of `fairworkflows` or some other strange issue has arisen. In such a case, please check that `pip install fairworkflows==0.2.6` was indeed run with the `==0.2.6`, or contact the evaluation organisers."
   ]
  },
  {
   "cell_type": "markdown",
   "id": "three-worse",
   "metadata": {},
   "source": [
    "### Checking FAIRWorkflows Jupyter Lab extension\n",
    "Once you have followed the above installation instructions, please open this introduction notebook in Jupyter Lab and perform the following checks:\n",
    "\n",
    "When you open Jupyter Lab you should see a tab has appeared in the left sidebar called 'FAIRWorkflows'. Click on this tab and the extension widget should open on the left. It will look something like this:\n",
    "\n",
    "![image.png](introimg/fairworkflows_widget.png)\n",
    "\n",
    "You can search for existing steps using text in the search bar. Results will appear below, as you type. Clicking on a result will inject that step's description into the notebook, into a new cell beneath the currently selected one. Ensure that 'raw' is selected as the `Inject` option:\n",
    "\n",
    "![image.png](introimg/inject.png)"
   ]
  },
  {
   "cell_type": "markdown",
   "id": "figured-narrow",
   "metadata": {},
   "source": [
    "# Using the fairworkflows library\n",
    "The `fairworkflows` library is intended to provide a simple way to make your 'normal' python code FAIR, automatically generating a prospective provenance description of the workflow (prior to execution) and a retrospective provenance description during execution. All these semantic descriptions are in the form of RDF triples, which can be published as a series of nanopublications.\n",
    "\n",
    "# How do I use it?\n",
    "The library introduces two decorators: `is_fairstep` and `is_fairworkflow`. `is_fairstep` is used to mark functions that are 'steps' in your processing, and `is_fairworkflow` is used to mark functions which combine these steps into the overall 'workflow'.\n",
    "\n",
    "This should hopefully become clearer with an example:\n",
    "\n",
    "### 1. Import the decorators"
   ]
  },
  {
   "cell_type": "code",
   "execution_count": 19,
   "id": "third-cache",
   "metadata": {},
   "outputs": [],
   "source": [
    "from fairworkflows import is_fairworkflow, is_fairstep, FairStep, FairWorkflow"
   ]
  },
  {
   "cell_type": "markdown",
   "id": "civil-surfing",
   "metadata": {},
   "source": [
    "### 2. Define your steps\n",
    "Each 'step' should be in a function. The arguments to the function should ideally have type hinting. You must mark the function using the is_fairstep decorator, and provide a 'label' - a string that gives a more verbose title to the step."
   ]
  },
  {
   "cell_type": "code",
   "execution_count": 25,
   "id": "fluid-dividend",
   "metadata": {},
   "outputs": [],
   "source": [
    "@is_fairstep(label='Addition')\n",
    "def add(a:float, b:float) -> float:\n",
    "    \"\"\"Adding up numbers!\"\"\"\n",
    "    return a + b"
   ]
  },
  {
   "cell_type": "code",
   "execution_count": 26,
   "id": "becoming-exclusive",
   "metadata": {},
   "outputs": [],
   "source": [
    "@is_fairstep(label='Subtraction')\n",
    "def sub(a: float, b: float) -> float:\n",
    "    \"\"\"Subtracting numbers.\"\"\"\n",
    "    return a - b"
   ]
  },
  {
   "cell_type": "code",
   "execution_count": 27,
   "id": "recreational-radiation",
   "metadata": {},
   "outputs": [],
   "source": [
    "@is_fairstep(label='Multiplication')\n",
    "def mul(a: float, b: float) -> float:\n",
    "    \"\"\"Multiplying numbers.\"\"\"\n",
    "    return a * b"
   ]
  },
  {
   "cell_type": "code",
   "execution_count": 28,
   "id": "promising-lawrence",
   "metadata": {},
   "outputs": [],
   "source": [
    "@is_fairstep(label='A strange step with little use')\n",
    "def weird(a: float, b:float) -> float:\n",
    "    \"\"\"A weird function\"\"\"\n",
    "    return a * 2 + b * 4\n",
    "    "
   ]
  },
  {
   "cell_type": "markdown",
   "id": "african-deputy",
   "metadata": {},
   "source": [
    "### Define your workflow using @fairworkflow\n",
    "Now write a function which describes your workflow. Mark this function with the @is_fairworkflow decorator."
   ]
  },
  {
   "cell_type": "code",
   "execution_count": 29,
   "id": "returning-millennium",
   "metadata": {},
   "outputs": [],
   "source": [
    "@is_fairworkflow(label='My Workflow')\n",
    "def my_workflow(in1, in2, in3):\n",
    "    \"\"\"\n",
    "    A simple addition, subtraction, multiplication workflow\n",
    "    \"\"\"\n",
    "    t1 = add(in1, in2)\n",
    "    t2 = sub(in1, in2)\n",
    "    t3 = mul(weird(t1, in3), t2)\n",
    "    return t3"
   ]
  },
  {
   "cell_type": "markdown",
   "id": "acceptable-transportation",
   "metadata": {},
   "source": [
    "## Create an instance of your workflow and display it\n",
    "Now that you have marked your steps and workflow, you are ready to create a FAIR workflow from it:"
   ]
  },
  {
   "cell_type": "code",
   "execution_count": 31,
   "id": "civic-dance",
   "metadata": {},
   "outputs": [],
   "source": [
    "fw = FairWorkflow.from_function(my_workflow)"
   ]
  },
  {
   "cell_type": "markdown",
   "id": "global-absolute",
   "metadata": {},
   "source": [
    "If you check the type of `fw` you will see that you have a `FairWorkflow` object."
   ]
  },
  {
   "cell_type": "code",
   "execution_count": 32,
   "id": "comprehensive-office",
   "metadata": {},
   "outputs": [
    {
     "data": {
      "text/plain": [
       "fairworkflows.fairworkflow.FairWorkflow"
      ]
     },
     "execution_count": 32,
     "metadata": {},
     "output_type": "execute_result"
    }
   ],
   "source": [
    "type(fw)"
   ]
  },
  {
   "cell_type": "markdown",
   "id": "norwegian-income",
   "metadata": {},
   "source": [
    "You can optionally display this workflow object graphically, using its `display()` method:"
   ]
  },
  {
   "cell_type": "code",
   "execution_count": 34,
   "id": "surgical-preservation",
   "metadata": {},
   "outputs": [
    {
     "data": {
      "image/svg+xml": [
       "<svg height=\"218pt\" viewBox=\"0.00 0.00 141.55 218.00\" width=\"142pt\" xmlns=\"http://www.w3.org/2000/svg\" xmlns:xlink=\"http://www.w3.org/1999/xlink\">\n",
       "<g class=\"graph\" id=\"graph0\" transform=\"scale(1 1) rotate(0) translate(4 214)\">\n",
       "<!-- 140389146152016 -->\n",
       "<g class=\"node\" id=\"node1\">\n",
       "<title>140389146152016</title>\n",
       "<ellipse cx=\"68.55\" cy=\"-18\" fill=\"none\" rx=\"27\" ry=\"18\" stroke=\"black\"/>\n",
       "<text font-family=\"Times,serif\" font-size=\"14.00\" text-anchor=\"middle\" x=\"68.55\" y=\"-14.3\">mul</text>\n",
       "</g>\n",
       "<!-- 140389146152848 -->\n",
       "<g class=\"node\" id=\"node2\">\n",
       "<title>140389146152848</title>\n",
       "<ellipse cx=\"30.55\" cy=\"-105\" fill=\"none\" rx=\"30.59\" ry=\"18\" stroke=\"black\"/>\n",
       "<text font-family=\"Times,serif\" font-size=\"14.00\" text-anchor=\"middle\" x=\"30.55\" y=\"-101.3\">weird</text>\n",
       "</g>\n",
       "<!-- 140389146152848&#45;&gt;140389146152016 -->\n",
       "<g class=\"edge\" id=\"edge1\">\n",
       "<title>140389146152848-&gt;140389146152016</title>\n",
       "<path d=\"M38.05,-87.21C43.45,-75.14 50.83,-58.64 56.97,-44.89\" fill=\"none\" stroke=\"black\"/>\n",
       "<polygon fill=\"black\" points=\"60.3,-46.03 61.18,-35.47 53.91,-43.17 60.3,-46.03\" stroke=\"black\"/>\n",
       "<text font-family=\"Times,serif\" font-size=\"14.00\" text-anchor=\"middle\" x=\"56.05\" y=\"-57.8\">a</text>\n",
       "</g>\n",
       "<!-- 140389146182224 -->\n",
       "<g class=\"node\" id=\"node3\">\n",
       "<title>140389146182224</title>\n",
       "<ellipse cx=\"30.55\" cy=\"-192\" fill=\"none\" rx=\"27\" ry=\"18\" stroke=\"black\"/>\n",
       "<text font-family=\"Times,serif\" font-size=\"14.00\" text-anchor=\"middle\" x=\"30.55\" y=\"-188.3\">add</text>\n",
       "</g>\n",
       "<!-- 140389146182224&#45;&gt;140389146152848 -->\n",
       "<g class=\"edge\" id=\"edge2\">\n",
       "<title>140389146182224-&gt;140389146152848</title>\n",
       "<path d=\"M30.55,-173.8C30.55,-162.16 30.55,-146.55 30.55,-133.24\" fill=\"none\" stroke=\"black\"/>\n",
       "<polygon fill=\"black\" points=\"34.05,-133.18 30.55,-123.18 27.05,-133.18 34.05,-133.18\" stroke=\"black\"/>\n",
       "<text font-family=\"Times,serif\" font-size=\"14.00\" text-anchor=\"middle\" x=\"34.05\" y=\"-144.8\">a</text>\n",
       "</g>\n",
       "<!-- 140389146183632 -->\n",
       "<g class=\"node\" id=\"node4\">\n",
       "<title>140389146183632</title>\n",
       "<ellipse cx=\"106.55\" cy=\"-105\" fill=\"none\" rx=\"27\" ry=\"18\" stroke=\"black\"/>\n",
       "<text font-family=\"Times,serif\" font-size=\"14.00\" text-anchor=\"middle\" x=\"106.55\" y=\"-101.3\">sub</text>\n",
       "</g>\n",
       "<!-- 140389146183632&#45;&gt;140389146152016 -->\n",
       "<g class=\"edge\" id=\"edge3\">\n",
       "<title>140389146183632-&gt;140389146152016</title>\n",
       "<path d=\"M99.22,-87.61C93.81,-75.5 86.33,-58.77 80.11,-44.86\" fill=\"none\" stroke=\"black\"/>\n",
       "<polygon fill=\"black\" points=\"83.13,-43.04 75.85,-35.34 76.74,-45.9 83.13,-43.04\" stroke=\"black\"/>\n",
       "<text font-family=\"Times,serif\" font-size=\"14.00\" text-anchor=\"middle\" x=\"93.05\" y=\"-57.8\">b</text>\n",
       "</g>\n",
       "</g>\n",
       "</svg>"
      ],
      "text/plain": [
       "<IPython.core.display.SVG object>"
      ]
     },
     "metadata": {},
     "output_type": "display_data"
    }
   ],
   "source": [
    "fw.display()"
   ]
  },
  {
   "cell_type": "markdown",
   "id": "ready-orientation",
   "metadata": {},
   "source": [
    "## Publish the (prospective) workflow\n",
    "Now that you have a workflow, you may already publish the prospective provenance as a series of nanopublications:"
   ]
  },
  {
   "cell_type": "code",
   "execution_count": 39,
   "id": "interstate-scanner",
   "metadata": {},
   "outputs": [
    {
     "name": "stdout",
     "output_type": "stream",
     "text": [
      "Published to http://purl.org/np/RA0aPiLioTcnvgSQTBOr4VgsoKHe8jRzhE8I0Braf0PZU\n",
      "Published concept to http://purl.org/np/RA0aPiLioTcnvgSQTBOr4VgsoKHe8jRzhE8I0Braf0PZU#step\n",
      "Published to http://purl.org/np/RAUD73eDV5bvUFyu2H10CGaQJXZKA6Z7_5xYiLVn1_GBo\n",
      "Published concept to http://purl.org/np/RAUD73eDV5bvUFyu2H10CGaQJXZKA6Z7_5xYiLVn1_GBo#step\n",
      "Published to http://purl.org/np/RAnIr_BMXGr0fwxrgxTFQT8o6IR1CDLvE3SlwfMvM7XWo\n",
      "Published concept to http://purl.org/np/RAnIr_BMXGr0fwxrgxTFQT8o6IR1CDLvE3SlwfMvM7XWo#step\n",
      "Published to http://purl.org/np/RA-570DvvqBM1jPfkw1FC5Sso-8bYEUwQvPihSBR7UuBI\n",
      "Published concept to http://purl.org/np/RA-570DvvqBM1jPfkw1FC5Sso-8bYEUwQvPihSBR7UuBI#step\n",
      "Published to http://purl.org/np/RA8BI-EkivDD5lUXlibWJ_FtKbSECiO5_EAyN0jNbWmwQ\n",
      "Published concept to http://purl.org/np/RA8BI-EkivDD5lUXlibWJ_FtKbSECiO5_EAyN0jNbWmwQ#plan\n"
     ]
    },
    {
     "data": {
      "text/plain": [
       "{'nanopub_uri': 'http://purl.org/np/RA8BI-EkivDD5lUXlibWJ_FtKbSECiO5_EAyN0jNbWmwQ',\n",
       " 'concept_uri': 'http://purl.org/np/RA8BI-EkivDD5lUXlibWJ_FtKbSECiO5_EAyN0jNbWmwQ#plan'}"
      ]
     },
     "execution_count": 39,
     "metadata": {},
     "output_type": "execute_result"
    }
   ],
   "source": [
    "fw.publish_as_nanopub(publish_steps=True)"
   ]
  },
  {
   "cell_type": "markdown",
   "id": "proper-liver",
   "metadata": {},
   "source": [
    "## Execute your workflow using .execute()\n",
    "You can now execute your workflow. This workflow took three input parameters, so we must provide these are arguments to its `execute()` method."
   ]
  },
  {
   "cell_type": "code",
   "execution_count": 41,
   "id": "noble-canadian",
   "metadata": {},
   "outputs": [
    {
     "data": {
      "text/plain": [
       "-66"
      ]
     },
     "execution_count": 41,
     "metadata": {},
     "output_type": "execute_result"
    }
   ],
   "source": [
    "result, prov = fw.execute(1, 4, 3)\n",
    "result"
   ]
  },
  {
   "cell_type": "markdown",
   "id": "consecutive-information",
   "metadata": {},
   "source": [
    "### Retrospective prov\n",
    "Notice that `execute()` does not return only the result of the execution, but also the retrospective provenance for that execution."
   ]
  },
  {
   "cell_type": "code",
   "execution_count": 45,
   "id": "independent-diesel",
   "metadata": {},
   "outputs": [
    {
     "data": {
      "text/plain": [
       "fairworkflows.prov.WorkflowRetroProv"
      ]
     },
     "execution_count": 45,
     "metadata": {},
     "output_type": "execute_result"
    }
   ],
   "source": [
    "type(prov)"
   ]
  },
  {
   "cell_type": "markdown",
   "id": "numerical-boxing",
   "metadata": {},
   "source": [
    "### Retrospective prov for each step\n",
    "You can iterate through a WorkflowRetroProv object to get the StepRetroProv objects for each step. Print these to see the RDF they contain (input/output variable values, start and end datetime of the step's execution etc.) "
   ]
  },
  {
   "cell_type": "code",
   "execution_count": 46,
   "id": "adapted-seller",
   "metadata": {},
   "outputs": [
    {
     "name": "stdout",
     "output_type": "stream",
     "text": [
      "Step retrospective provenance.\n",
      "@prefix pplan: <http://purl.org/net/p-plan#> .\n",
      "@prefix prov: <http://www.w3.org/ns/prov#> .\n",
      "@prefix rdf: <http://www.w3.org/1999/02/22-rdf-syntax-ns#> .\n",
      "@prefix rdfs: <http://www.w3.org/2000/01/rdf-schema#> .\n",
      "@prefix xsd: <http://www.w3.org/2001/XMLSchema#> .\n",
      "\n",
      "[] a pplan:Activity ;\n",
      "    pplan:correspondsToStep <http://purl.org/np/RAUD73eDV5bvUFyu2H10CGaQJXZKA6Z7_5xYiLVn1_GBo#step> ;\n",
      "    prov:endedAtTime \"2021-03-16T13:08:38.116421\"^^xsd:dateTime ;\n",
      "    prov:startedAtTime \"2021-03-16T13:08:38.116414\"^^xsd:dateTime ;\n",
      "    prov:used [ a pplan:Entity ;\n",
      "            rdfs:label \"a\" ;\n",
      "            pplan:correspondsToVariable <http://purl.org/np/RAUD73eDV5bvUFyu2H10CGaQJXZKA6Z7_5xYiLVn1_GBo#a> ;\n",
      "            rdf:value 1 ],\n",
      "        [ a pplan:Entity ;\n",
      "            rdfs:label \"b\" ;\n",
      "            pplan:correspondsToVariable <http://purl.org/np/RAUD73eDV5bvUFyu2H10CGaQJXZKA6Z7_5xYiLVn1_GBo#b> ;\n",
      "            rdf:value 4 ],\n",
      "        [ a pplan:Entity ;\n",
      "            rdfs:label \"out1\" ;\n",
      "            pplan:correspondsToVariable <http://purl.org/np/RAUD73eDV5bvUFyu2H10CGaQJXZKA6Z7_5xYiLVn1_GBo#out1> ;\n",
      "            rdf:value 5 ] .\n",
      "\n",
      "\n",
      "Step retrospective provenance.\n",
      "@prefix pplan: <http://purl.org/net/p-plan#> .\n",
      "@prefix prov: <http://www.w3.org/ns/prov#> .\n",
      "@prefix rdf: <http://www.w3.org/1999/02/22-rdf-syntax-ns#> .\n",
      "@prefix rdfs: <http://www.w3.org/2000/01/rdf-schema#> .\n",
      "@prefix xsd: <http://www.w3.org/2001/XMLSchema#> .\n",
      "\n",
      "[] a pplan:Activity ;\n",
      "    pplan:correspondsToStep <http://purl.org/np/RA0aPiLioTcnvgSQTBOr4VgsoKHe8jRzhE8I0Braf0PZU#step> ;\n",
      "    prov:endedAtTime \"2021-03-16T13:08:38.118755\"^^xsd:dateTime ;\n",
      "    prov:startedAtTime \"2021-03-16T13:08:38.118748\"^^xsd:dateTime ;\n",
      "    prov:used [ a pplan:Entity ;\n",
      "            rdfs:label \"a\" ;\n",
      "            pplan:correspondsToVariable <http://purl.org/np/RA0aPiLioTcnvgSQTBOr4VgsoKHe8jRzhE8I0Braf0PZU#a> ;\n",
      "            rdf:value 1 ],\n",
      "        [ a pplan:Entity ;\n",
      "            rdfs:label \"b\" ;\n",
      "            pplan:correspondsToVariable <http://purl.org/np/RA0aPiLioTcnvgSQTBOr4VgsoKHe8jRzhE8I0Braf0PZU#b> ;\n",
      "            rdf:value 4 ],\n",
      "        [ a pplan:Entity ;\n",
      "            rdfs:label \"out1\" ;\n",
      "            pplan:correspondsToVariable <http://purl.org/np/RA0aPiLioTcnvgSQTBOr4VgsoKHe8jRzhE8I0Braf0PZU#out1> ;\n",
      "            rdf:value -3 ] .\n",
      "\n",
      "\n",
      "Step retrospective provenance.\n",
      "@prefix pplan: <http://purl.org/net/p-plan#> .\n",
      "@prefix prov: <http://www.w3.org/ns/prov#> .\n",
      "@prefix rdf: <http://www.w3.org/1999/02/22-rdf-syntax-ns#> .\n",
      "@prefix rdfs: <http://www.w3.org/2000/01/rdf-schema#> .\n",
      "@prefix xsd: <http://www.w3.org/2001/XMLSchema#> .\n",
      "\n",
      "[] a pplan:Activity ;\n",
      "    pplan:correspondsToStep <http://purl.org/np/RAnIr_BMXGr0fwxrgxTFQT8o6IR1CDLvE3SlwfMvM7XWo#step> ;\n",
      "    prov:endedAtTime \"2021-03-16T13:08:38.120395\"^^xsd:dateTime ;\n",
      "    prov:startedAtTime \"2021-03-16T13:08:38.120388\"^^xsd:dateTime ;\n",
      "    prov:used [ a pplan:Entity ;\n",
      "            rdfs:label \"a\" ;\n",
      "            pplan:correspondsToVariable <http://purl.org/np/RAnIr_BMXGr0fwxrgxTFQT8o6IR1CDLvE3SlwfMvM7XWo#a> ;\n",
      "            rdf:value 5 ],\n",
      "        [ a pplan:Entity ;\n",
      "            rdfs:label \"b\" ;\n",
      "            pplan:correspondsToVariable <http://purl.org/np/RAnIr_BMXGr0fwxrgxTFQT8o6IR1CDLvE3SlwfMvM7XWo#b> ;\n",
      "            rdf:value 3 ],\n",
      "        [ a pplan:Entity ;\n",
      "            rdfs:label \"out1\" ;\n",
      "            pplan:correspondsToVariable <http://purl.org/np/RAnIr_BMXGr0fwxrgxTFQT8o6IR1CDLvE3SlwfMvM7XWo#out1> ;\n",
      "            rdf:value 22 ] .\n",
      "\n",
      "\n",
      "Step retrospective provenance.\n",
      "@prefix pplan: <http://purl.org/net/p-plan#> .\n",
      "@prefix prov: <http://www.w3.org/ns/prov#> .\n",
      "@prefix rdf: <http://www.w3.org/1999/02/22-rdf-syntax-ns#> .\n",
      "@prefix rdfs: <http://www.w3.org/2000/01/rdf-schema#> .\n",
      "@prefix xsd: <http://www.w3.org/2001/XMLSchema#> .\n",
      "\n",
      "[] a pplan:Activity ;\n",
      "    pplan:correspondsToStep <http://purl.org/np/RA-570DvvqBM1jPfkw1FC5Sso-8bYEUwQvPihSBR7UuBI#step> ;\n",
      "    prov:endedAtTime \"2021-03-16T13:08:38.122458\"^^xsd:dateTime ;\n",
      "    prov:startedAtTime \"2021-03-16T13:08:38.122452\"^^xsd:dateTime ;\n",
      "    prov:used [ a pplan:Entity ;\n",
      "            rdfs:label \"a\" ;\n",
      "            pplan:correspondsToVariable <http://purl.org/np/RA-570DvvqBM1jPfkw1FC5Sso-8bYEUwQvPihSBR7UuBI#a> ;\n",
      "            rdf:value 22 ],\n",
      "        [ a pplan:Entity ;\n",
      "            rdfs:label \"b\" ;\n",
      "            pplan:correspondsToVariable <http://purl.org/np/RA-570DvvqBM1jPfkw1FC5Sso-8bYEUwQvPihSBR7UuBI#b> ;\n",
      "            rdf:value -3 ],\n",
      "        [ a pplan:Entity ;\n",
      "            rdfs:label \"out1\" ;\n",
      "            pplan:correspondsToVariable <http://purl.org/np/RA-570DvvqBM1jPfkw1FC5Sso-8bYEUwQvPihSBR7UuBI#out1> ;\n",
      "            rdf:value -66 ] .\n",
      "\n",
      "\n"
     ]
    }
   ],
   "source": [
    "for sp in prov:\n",
    "    print(sp)"
   ]
  },
  {
   "cell_type": "markdown",
   "id": "illegal-major",
   "metadata": {},
   "source": [
    "### Publish the retrospective provenance\n",
    "You can use the .publish_as_nanopub() method as with FairStep and FairWorkflow objects. This publishes a nanopub per step and one for the whole workflow, mirroring the prospective RDF."
   ]
  },
  {
   "cell_type": "code",
   "execution_count": 47,
   "id": "presidential-humor",
   "metadata": {},
   "outputs": [
    {
     "name": "stdout",
     "output_type": "stream",
     "text": [
      "Published to http://purl.org/np/RAFUvzQQA0rXH38zpxZ9LQCme9dq2ZTMy9PqGCNvVkWD4\n",
      "Published concept to http://purl.org/np/RAFUvzQQA0rXH38zpxZ9LQCme9dq2ZTMy9PqGCNvVkWD4#fairstepprov\n",
      "Published to http://purl.org/np/RAKklCNBHdYcj7cRTT8TurQM5_KWDhBdsrSuImfKOvueY\n",
      "Published concept to http://purl.org/np/RAKklCNBHdYcj7cRTT8TurQM5_KWDhBdsrSuImfKOvueY#fairstepprov\n",
      "Published to http://purl.org/np/RANgAC9MEtNJWdZxsj8MH2LF16WuQiIY6z5phugvkMIsM\n",
      "Published concept to http://purl.org/np/RANgAC9MEtNJWdZxsj8MH2LF16WuQiIY6z5phugvkMIsM#fairstepprov\n",
      "Published to http://purl.org/np/RAVhvgS-qn8qkWgY70apL4rX0LnVZDj7Tl_BjdinbI4Sg\n",
      "Published concept to http://purl.org/np/RAVhvgS-qn8qkWgY70apL4rX0LnVZDj7Tl_BjdinbI4Sg#fairstepprov\n",
      "Published to http://purl.org/np/RAPQx6lpWHCuicqaxRvivlA_PLwgO6WA_CNNGM4Pqz1jc\n",
      "Published concept to http://purl.org/np/RAPQx6lpWHCuicqaxRvivlA_PLwgO6WA_CNNGM4Pqz1jc#fairworkflowprov\n"
     ]
    },
    {
     "data": {
      "text/plain": [
       "{'nanopub_uri': 'http://purl.org/np/RAPQx6lpWHCuicqaxRvivlA_PLwgO6WA_CNNGM4Pqz1jc',\n",
       " 'concept_uri': 'http://purl.org/np/RAPQx6lpWHCuicqaxRvivlA_PLwgO6WA_CNNGM4Pqz1jc#fairworkflowprov'}"
      ]
     },
     "execution_count": 47,
     "metadata": {},
     "output_type": "execute_result"
    }
   ],
   "source": [
    "prov.publish_as_nanopub()"
   ]
  },
  {
   "cell_type": "markdown",
   "id": "atomic-liver",
   "metadata": {},
   "source": [
    "The last nanopub (whose URI ends in #fairworkflowprov) contains the links to all of the individual step retrospective provenances."
   ]
  },
  {
   "cell_type": "markdown",
   "id": "absolute-torture",
   "metadata": {},
   "source": [
    "## Provide semantic annotations for input and output variables\n",
    "If you wish to specify semantic types for the inputs/outputs to a step, you can do so in the arguments to the decorator.\n",
    "For example, if you have an input parameter 'a', you can write a='http://www.example.org/distance' to assign that (semantic) type to a. As output of functions is not named in python, you can specify the same but with 'out1', 'out2' etc. See the following example:"
   ]
  },
  {
   "cell_type": "code",
   "execution_count": 16,
   "id": "graduate-breathing",
   "metadata": {},
   "outputs": [],
   "source": [
    "@is_fairstep(label='Addition', a='http://www.example.org/distance', returns='http://www.example.org/mass')\n",
    "def add(a:float, b:float) -> float:\n",
    "    return a + b"
   ]
  },
  {
   "cell_type": "markdown",
   "id": "endless-bookmark",
   "metadata": {},
   "source": [
    "If we now look at the RDF generated for the step, we will see that input parameter 'a' and the step output ('out1') both have the (additional) semantic types specified."
   ]
  },
  {
   "cell_type": "code",
   "execution_count": 17,
   "id": "rocky-revolution",
   "metadata": {},
   "outputs": [
    {
     "name": "stdout",
     "output_type": "stream",
     "text": [
      "Step URI = http://www.example.org/unpublished-add\n",
      "@prefix bpmn: <http://dkm.fbk.eu/index.php/BPMN2_Ontology#> .\n",
      "@prefix dc: <http://purl.org/dc/terms/> .\n",
      "@prefix owl: <http://www.w3.org/2002/07/owl#> .\n",
      "@prefix pplan: <http://purl.org/net/p-plan#> .\n",
      "@prefix rdfs: <http://www.w3.org/2000/01/rdf-schema#> .\n",
      "@prefix schema: <https://schema.org/> .\n",
      "\n",
      "_:N55c6db2a96b4414499dd088141690acb {\n",
      "    [] a bpmn:ScriptTask,\n",
      "            pplan:Step ;\n",
      "        rdfs:label \"Addition\" ;\n",
      "        dc:description \"\"\"@is_fairstep(label='Addition', a='http://www.example.org/distance', returns='http://www.example.org/mass')\n",
      "def add(a:float, b:float) -> float:\n",
      "    return a + b\n",
      "\"\"\" ;\n",
      "        dc:language [ a schema:ComputerLanguage ;\n",
      "                rdfs:label \"python\" ;\n",
      "                rdfs:seeAlso <https://www.wikidata.org/wiki/Q28865> ;\n",
      "                owl:versionInfo \"3.7.9.final.0\" ] ;\n",
      "        pplan:hasInputVar [ a pplan:Variable,\n",
      "                    <http://www.example.org/distance> ;\n",
      "                rdfs:label \"a\" ;\n",
      "                rdfs:comment \"float\" ],\n",
      "            [ a pplan:Variable ;\n",
      "                rdfs:label \"b\" ;\n",
      "                rdfs:comment \"float\" ] ;\n",
      "        pplan:hasOutputVar [ a pplan:Variable,\n",
      "                    <http://www.example.org/mass> ;\n",
      "                rdfs:label \"out1\" ;\n",
      "                rdfs:comment \"float\" ] .\n",
      "}\n",
      "\n",
      "\n"
     ]
    }
   ],
   "source": [
    "# ACTIONS:\n",
    "# Add language and version to nanopubs (i.e. what the description is written in)\n",
    "print(add._fairstep)"
   ]
  },
  {
   "cell_type": "markdown",
   "id": "normal-speaker",
   "metadata": {},
   "source": [
    "### Specify more than one semantic type for a parameter\n",
    "You can provide a list of URIs if you want to specify several semantic types for e.g. parameter 'a':"
   ]
  },
  {
   "cell_type": "code",
   "execution_count": 18,
   "id": "exterior-stroke",
   "metadata": {},
   "outputs": [],
   "source": [
    "@is_fairstep(label='Addition', a=['http://www.example.org/distance', 'http://www.example.org/number'])\n",
    "def another_step(a:float, b:float) -> float:\n",
    "    \"\"\"Add two numbers together\"\"\"\n",
    "    return a + b"
   ]
  },
  {
   "cell_type": "code",
   "execution_count": 19,
   "id": "specialized-shelter",
   "metadata": {},
   "outputs": [
    {
     "name": "stdout",
     "output_type": "stream",
     "text": [
      "Step URI = http://www.example.org/unpublished-another_step\n",
      "@prefix bpmn: <http://dkm.fbk.eu/index.php/BPMN2_Ontology#> .\n",
      "@prefix dc: <http://purl.org/dc/terms/> .\n",
      "@prefix owl: <http://www.w3.org/2002/07/owl#> .\n",
      "@prefix pplan: <http://purl.org/net/p-plan#> .\n",
      "@prefix rdfs: <http://www.w3.org/2000/01/rdf-schema#> .\n",
      "@prefix schema: <https://schema.org/> .\n",
      "\n",
      "_:Nab534dffa6f1415cbbd25881f8d8e11d {\n",
      "    [] a bpmn:ScriptTask,\n",
      "            pplan:Step ;\n",
      "        rdfs:label \"Addition\" ;\n",
      "        dc:description \"\"\"@is_fairstep(label='Addition', a=['http://www.example.org/distance', 'http://www.example.org/number'])\n",
      "def another_step(a:float, b:float) -> float:\n",
      "    \\\"\\\"\\\"Add two numbers together\\\"\\\"\\\"\n",
      "    return a + b\n",
      "\"\"\" ;\n",
      "        dc:language [ a schema:ComputerLanguage ;\n",
      "                rdfs:label \"python\" ;\n",
      "                rdfs:seeAlso <https://www.wikidata.org/wiki/Q28865> ;\n",
      "                owl:versionInfo \"3.7.9.final.0\" ] ;\n",
      "        pplan:hasInputVar [ a pplan:Variable,\n",
      "                    <http://www.example.org/distance>,\n",
      "                    <http://www.example.org/number> ;\n",
      "                rdfs:label \"a\" ;\n",
      "                rdfs:comment \"float\" ],\n",
      "            [ a pplan:Variable ;\n",
      "                rdfs:label \"b\" ;\n",
      "                rdfs:comment \"float\" ] ;\n",
      "        pplan:hasOutputVar [ a pplan:Variable ;\n",
      "                rdfs:label \"out1\" ;\n",
      "                rdfs:comment \"float\" ] .\n",
      "}\n",
      "\n",
      "\n"
     ]
    }
   ],
   "source": [
    "print(another_step._fairstep)"
   ]
  },
  {
   "cell_type": "markdown",
   "id": "moving-bicycle",
   "metadata": {},
   "source": [
    "You can check the programming language that was used for writing the step:"
   ]
  },
  {
   "cell_type": "code",
   "execution_count": 19,
   "id": "purple-experience",
   "metadata": {},
   "outputs": [
    {
     "name": "stdout",
     "output_type": "stream",
     "text": [
      "LinguisticSystem with type=https://schema.org/ComputerLanguage, label=python, seeAlso=https://www.wikidata.org/wiki/Q28865, versionInfo=3.7.9.final.0\n"
     ]
    }
   ],
   "source": [
    "print(another_step._fairstep.language)"
   ]
  },
  {
   "cell_type": "markdown",
   "id": "compound-check",
   "metadata": {},
   "source": [
    "## Semantic types for function producing multiple outputs\n",
    "Provide 'out' with a tuple of the same length as the number of function outputs. You can use None for any you do not wish to assign a particular semantic type to."
   ]
  },
  {
   "cell_type": "code",
   "execution_count": 20,
   "id": "raised-hudson",
   "metadata": {},
   "outputs": [],
   "source": [
    "from typing import Tuple\n",
    "@is_fairstep(label='Addition and subtraction', returns=('http://www.example.org/distance', 'http://www.example.org/number'))\n",
    "def another_step(a:float, b:float) -> Tuple[float, float]:\n",
    "    return a + b, a - b"
   ]
  },
  {
   "cell_type": "code",
   "execution_count": 21,
   "id": "brave-substance",
   "metadata": {},
   "outputs": [
    {
     "name": "stdout",
     "output_type": "stream",
     "text": [
      "Step URI = http://www.example.org/unpublished-another_step\n",
      "@prefix bpmn: <http://dkm.fbk.eu/index.php/BPMN2_Ontology#> .\n",
      "@prefix dc: <http://purl.org/dc/terms/> .\n",
      "@prefix owl: <http://www.w3.org/2002/07/owl#> .\n",
      "@prefix pplan: <http://purl.org/net/p-plan#> .\n",
      "@prefix rdfs: <http://www.w3.org/2000/01/rdf-schema#> .\n",
      "@prefix schema: <https://schema.org/> .\n",
      "\n",
      "_:N1345fcd9251f4f8b86ee8e59bbab507d {\n",
      "    [] a bpmn:ScriptTask,\n",
      "            pplan:Step ;\n",
      "        rdfs:label \"Addition and subtraction\" ;\n",
      "        dc:description \"\"\"@is_fairstep(label='Addition and subtraction', returns=('http://www.example.org/distance', 'http://www.example.org/number'))\n",
      "def another_step(a:float, b:float) -> Tuple[float, float]:\n",
      "    return a + b, a - b\n",
      "\"\"\" ;\n",
      "        dc:language [ a schema:ComputerLanguage ;\n",
      "                rdfs:label \"python\" ;\n",
      "                rdfs:seeAlso <https://www.wikidata.org/wiki/Q28865> ;\n",
      "                owl:versionInfo \"3.7.9.final.0\" ] ;\n",
      "        pplan:hasInputVar [ a pplan:Variable ;\n",
      "                rdfs:label \"a\" ;\n",
      "                rdfs:comment \"float\" ],\n",
      "            [ a pplan:Variable ;\n",
      "                rdfs:label \"b\" ;\n",
      "                rdfs:comment \"float\" ] ;\n",
      "        pplan:hasOutputVar [ a pplan:Variable,\n",
      "                    <http://www.example.org/distance> ;\n",
      "                rdfs:label \"out1\" ;\n",
      "                rdfs:comment \"float\" ],\n",
      "            [ a pplan:Variable,\n",
      "                    <http://www.example.org/number> ;\n",
      "                rdfs:label \"out2\" ;\n",
      "                rdfs:comment \"float\" ] .\n",
      "}\n",
      "\n",
      "\n"
     ]
    }
   ],
   "source": [
    "print(another_step._fairstep)"
   ]
  },
  {
   "cell_type": "markdown",
   "id": "psychological-program",
   "metadata": {},
   "source": [
    "As before, you may provide a list of URIs for each output. If you do not want to provide semantic types for a particular output, simply pass None:"
   ]
  },
  {
   "cell_type": "code",
   "execution_count": 22,
   "id": "pleasant-skirt",
   "metadata": {},
   "outputs": [],
   "source": [
    "from typing import Tuple\n",
    "@is_fairstep(label='Addition and subtraction', returns=(['http://www.example.org/distance', 'http://www.example.org/number'], None))\n",
    "def another_step(a:float, b:float) -> Tuple[float, float]:\n",
    "    \"\"\"This step returns an addition and a subtraction of its inputs\"\"\"\n",
    "    return a + b, a - b"
   ]
  },
  {
   "cell_type": "code",
   "execution_count": 23,
   "id": "figured-absorption",
   "metadata": {},
   "outputs": [
    {
     "name": "stdout",
     "output_type": "stream",
     "text": [
      "Step URI = http://www.example.org/unpublished-another_step\n",
      "@prefix bpmn: <http://dkm.fbk.eu/index.php/BPMN2_Ontology#> .\n",
      "@prefix dc: <http://purl.org/dc/terms/> .\n",
      "@prefix owl: <http://www.w3.org/2002/07/owl#> .\n",
      "@prefix pplan: <http://purl.org/net/p-plan#> .\n",
      "@prefix rdfs: <http://www.w3.org/2000/01/rdf-schema#> .\n",
      "@prefix schema: <https://schema.org/> .\n",
      "\n",
      "_:Nd65e996b1d9546a4899eaff4131e159f {\n",
      "    [] a bpmn:ScriptTask,\n",
      "            pplan:Step ;\n",
      "        rdfs:label \"Addition and subtraction\" ;\n",
      "        dc:description \"\"\"@is_fairstep(label='Addition and subtraction', returns=(['http://www.example.org/distance', 'http://www.example.org/number'], None))\n",
      "def another_step(a:float, b:float) -> Tuple[float, float]:\n",
      "    \\\"\\\"\\\"This step returns an addition and a subtraction of its inputs\\\"\\\"\\\"\n",
      "    return a + b, a - b\n",
      "\"\"\" ;\n",
      "        dc:language [ a schema:ComputerLanguage ;\n",
      "                rdfs:label \"python\" ;\n",
      "                rdfs:seeAlso <https://www.wikidata.org/wiki/Q28865> ;\n",
      "                owl:versionInfo \"3.7.9.final.0\" ] ;\n",
      "        pplan:hasInputVar [ a pplan:Variable ;\n",
      "                rdfs:label \"a\" ;\n",
      "                rdfs:comment \"float\" ],\n",
      "            [ a pplan:Variable ;\n",
      "                rdfs:label \"b\" ;\n",
      "                rdfs:comment \"float\" ] ;\n",
      "        pplan:hasOutputVar [ a pplan:Variable,\n",
      "                    <http://www.example.org/distance>,\n",
      "                    <http://www.example.org/number> ;\n",
      "                rdfs:label \"out1\" ;\n",
      "                rdfs:comment \"float\" ],\n",
      "            [ a pplan:Variable ;\n",
      "                rdfs:label \"out2\" ;\n",
      "                rdfs:comment \"float\" ] .\n",
      "}\n",
      "\n",
      "\n"
     ]
    }
   ],
   "source": [
    "print(another_step._fairstep)"
   ]
  },
  {
   "cell_type": "code",
   "execution_count": null,
   "id": "conscious-ballot",
   "metadata": {},
   "outputs": [],
   "source": []
  }
 ],
 "metadata": {
  "kernelspec": {
   "display_name": "Python 3",
   "language": "python",
   "name": "python3"
  },
  "language_info": {
   "codemirror_mode": {
    "name": "ipython",
    "version": 3
   },
   "file_extension": ".py",
   "mimetype": "text/x-python",
   "name": "python",
   "nbconvert_exporter": "python",
   "pygments_lexer": "ipython3",
   "version": "3.7.9"
  }
 },
 "nbformat": 4,
 "nbformat_minor": 5
}
