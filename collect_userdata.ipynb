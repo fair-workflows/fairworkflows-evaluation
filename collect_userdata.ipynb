{
 "cells": [
  {
   "cell_type": "code",
   "execution_count": 17,
   "metadata": {},
   "outputs": [
    {
     "name": "stdout",
     "output_type": "stream",
     "text": [
      "Collecting nanopub\n",
      "  Downloading nanopub-1.2.10-py3-none-any.whl (9.6 MB)\n",
      "\u001b[K     |████████████████████████████████| 9.6 MB 1.9 MB/s eta 0:00:01     |██████████████████████████████▉ | 9.3 MB 1.9 MB/s eta 0:00:01\n",
      "\u001b[?25hRequirement already satisfied, skipping upgrade: yatiml in /Users/remzicelebi/opt/anaconda3/lib/python3.8/site-packages (from nanopub) (0.6.1)\n",
      "Requirement already satisfied, skipping upgrade: requests in /Users/remzicelebi/opt/anaconda3/lib/python3.8/site-packages (from nanopub) (2.24.0)\n",
      "Requirement already satisfied, skipping upgrade: rdflib<6.0.0,>=5.0.0 in /Users/remzicelebi/opt/anaconda3/lib/python3.8/site-packages (from nanopub) (5.0.0)\n",
      "Requirement already satisfied, skipping upgrade: click==7.1.2 in /Users/remzicelebi/opt/anaconda3/lib/python3.8/site-packages (from nanopub) (7.1.2)\n",
      "Requirement already satisfied, skipping upgrade: ruamel.yaml<=0.16.10,>=0.15.71 in /Users/remzicelebi/opt/anaconda3/lib/python3.8/site-packages (from yatiml->nanopub) (0.16.10)\n",
      "Requirement already satisfied, skipping upgrade: typing-extensions in /Users/remzicelebi/opt/anaconda3/lib/python3.8/site-packages (from yatiml->nanopub) (3.7.4.2)\n",
      "Requirement already satisfied, skipping upgrade: certifi>=2017.4.17 in /Users/remzicelebi/opt/anaconda3/lib/python3.8/site-packages (from requests->nanopub) (2020.6.20)\n",
      "Requirement already satisfied, skipping upgrade: urllib3!=1.25.0,!=1.25.1,<1.26,>=1.21.1 in /Users/remzicelebi/opt/anaconda3/lib/python3.8/site-packages (from requests->nanopub) (1.25.9)\n",
      "Requirement already satisfied, skipping upgrade: idna<3,>=2.5 in /Users/remzicelebi/opt/anaconda3/lib/python3.8/site-packages (from requests->nanopub) (2.10)\n",
      "Requirement already satisfied, skipping upgrade: chardet<4,>=3.0.2 in /Users/remzicelebi/opt/anaconda3/lib/python3.8/site-packages (from requests->nanopub) (3.0.4)\n",
      "Requirement already satisfied, skipping upgrade: isodate in /Users/remzicelebi/.local/lib/python3.8/site-packages (from rdflib<6.0.0,>=5.0.0->nanopub) (0.6.0)\n",
      "Requirement already satisfied, skipping upgrade: pyparsing in /Users/remzicelebi/opt/anaconda3/lib/python3.8/site-packages (from rdflib<6.0.0,>=5.0.0->nanopub) (2.4.7)\n",
      "Requirement already satisfied, skipping upgrade: six in /Users/remzicelebi/opt/anaconda3/lib/python3.8/site-packages (from rdflib<6.0.0,>=5.0.0->nanopub) (1.15.0)\n",
      "Requirement already satisfied, skipping upgrade: ruamel.yaml.clib>=0.1.2; platform_python_implementation == \"CPython\" and python_version < \"3.9\" in /Users/remzicelebi/opt/anaconda3/lib/python3.8/site-packages (from ruamel.yaml<=0.16.10,>=0.15.71->yatiml->nanopub) (0.2.2)\n",
      "\u001b[31mERROR: fairworkflows 0.2.9 has requirement Jinja2==2.11.3, but you'll have jinja2 2.11.2 which is incompatible.\u001b[0m\n",
      "\u001b[31mERROR: fairworkflows 0.2.9 has requirement nanopub==1.2.6, but you'll have nanopub 1.2.10 which is incompatible.\u001b[0m\n",
      "\u001b[31mERROR: fairworkflows 0.2.9 has requirement networkx~=2.5, but you'll have networkx 2.3 which is incompatible.\u001b[0m\n",
      "\u001b[31mERROR: nanopubjl 0.2.0 has requirement nanopub==1.0.0, but you'll have nanopub 1.2.10 which is incompatible.\u001b[0m\n",
      "Installing collected packages: nanopub\n",
      "  Attempting uninstall: nanopub\n",
      "    Found existing installation: nanopub 1.2.6\n",
      "    Uninstalling nanopub-1.2.6:\n",
      "      Successfully uninstalled nanopub-1.2.6\n",
      "Successfully installed nanopub-1.2.10\n"
     ]
    }
   ],
   "source": [
    "!pip install nanopub --upgrade"
   ]
  },
  {
   "cell_type": "code",
   "execution_count": 18,
   "metadata": {},
   "outputs": [],
   "source": [
    "from nanopub import Publication, NanopubClient\n",
    "from rdflib import Graph, URIRef, RDF, FOAF, ConjunctiveGraph\n",
    "import pandas as pd"
   ]
  },
  {
   "cell_type": "code",
   "execution_count": 19,
   "metadata": {},
   "outputs": [],
   "source": [
    "from nanopub import NanopubClient\n",
    "client = NanopubClient()"
   ]
  },
  {
   "cell_type": "code",
   "execution_count": 37,
   "metadata": {},
   "outputs": [],
   "source": [
    "userdata = pd.read_csv('data/FAIRBench-UserStudy.csv')"
   ]
  },
  {
   "cell_type": "code",
   "execution_count": 38,
   "metadata": {},
   "outputs": [
    {
     "data": {
      "text/html": [
       "<div>\n",
       "<style scoped>\n",
       "    .dataframe tbody tr th:only-of-type {\n",
       "        vertical-align: middle;\n",
       "    }\n",
       "\n",
       "    .dataframe tbody tr th {\n",
       "        vertical-align: top;\n",
       "    }\n",
       "\n",
       "    .dataframe thead th {\n",
       "        text-align: right;\n",
       "    }\n",
       "</style>\n",
       "<table border=\"1\" class=\"dataframe\">\n",
       "  <thead>\n",
       "    <tr style=\"text-align: right;\">\n",
       "      <th></th>\n",
       "      <th>User</th>\n",
       "      <th>Task1-Prospective</th>\n",
       "      <th>Task1-Restrospective</th>\n",
       "      <th>Task2-Prospective</th>\n",
       "      <th>Task2-Restrospective</th>\n",
       "      <th>Task3-Prospective</th>\n",
       "      <th>Task3-Restrospective</th>\n",
       "    </tr>\n",
       "  </thead>\n",
       "  <tbody>\n",
       "    <tr>\n",
       "      <th>0</th>\n",
       "      <td>guest1</td>\n",
       "      <td>http://purl.org/np/RAFSkDlUvnV9xhP31ueqV2aFTMj...</td>\n",
       "      <td>http://purl.org/np/RAbH52UMZkIgLeyUjkrPBNfeKXr...</td>\n",
       "      <td>NaN</td>\n",
       "      <td>NaN</td>\n",
       "      <td>NaN</td>\n",
       "      <td>NaN</td>\n",
       "    </tr>\n",
       "    <tr>\n",
       "      <th>1</th>\n",
       "      <td>guest2</td>\n",
       "      <td>http://purl.org/np/RAByi9bgYI6l9PWw3ODWvL8Vtq2...</td>\n",
       "      <td>NaN</td>\n",
       "      <td>http://purl.org/np/RAi2uAnMR8szlDZs7B7LNk1d7r3...</td>\n",
       "      <td>http://purl.org/np/RAx__dmVq87NsBKKPkHlGXRWFCk...</td>\n",
       "      <td>http://purl.org/np/RAPVzWqnGweopmSGFWfRY9lvI5b...</td>\n",
       "      <td>http://purl.org/np/RASXsABRKs397jj37Bhnsfjdx1F...</td>\n",
       "    </tr>\n",
       "    <tr>\n",
       "      <th>2</th>\n",
       "      <td>guest3</td>\n",
       "      <td>NaN</td>\n",
       "      <td>NaN</td>\n",
       "      <td>NaN</td>\n",
       "      <td>NaN</td>\n",
       "      <td>NaN</td>\n",
       "      <td>NaN</td>\n",
       "    </tr>\n",
       "    <tr>\n",
       "      <th>3</th>\n",
       "      <td>guest4</td>\n",
       "      <td>http://purl.org/np/RAzQQnMt8ty7Px-t_dFKjZkux5Q...</td>\n",
       "      <td>http://purl.org/np/RAEwcI_uAVsTFJg0xtB2mF9EyiG...</td>\n",
       "      <td>http://purl.org/np/RA30kwG-Np56bgbZ9lNTokuyGkc...</td>\n",
       "      <td>NaN</td>\n",
       "      <td>http://purl.org/np/RAOxqpn2U7NDdCwK5QXRNCbxJDU...</td>\n",
       "      <td>NaN</td>\n",
       "    </tr>\n",
       "    <tr>\n",
       "      <th>4</th>\n",
       "      <td>guest5</td>\n",
       "      <td>NaN</td>\n",
       "      <td>NaN</td>\n",
       "      <td>NaN</td>\n",
       "      <td>NaN</td>\n",
       "      <td>NaN</td>\n",
       "      <td>NaN</td>\n",
       "    </tr>\n",
       "  </tbody>\n",
       "</table>\n",
       "</div>"
      ],
      "text/plain": [
       "     User                                  Task1-Prospective  \\\n",
       "0  guest1  http://purl.org/np/RAFSkDlUvnV9xhP31ueqV2aFTMj...   \n",
       "1  guest2  http://purl.org/np/RAByi9bgYI6l9PWw3ODWvL8Vtq2...   \n",
       "2  guest3                                                NaN   \n",
       "3  guest4  http://purl.org/np/RAzQQnMt8ty7Px-t_dFKjZkux5Q...   \n",
       "4  guest5                                                NaN   \n",
       "\n",
       "                                Task1-Restrospective  \\\n",
       "0  http://purl.org/np/RAbH52UMZkIgLeyUjkrPBNfeKXr...   \n",
       "1                                                NaN   \n",
       "2                                                NaN   \n",
       "3  http://purl.org/np/RAEwcI_uAVsTFJg0xtB2mF9EyiG...   \n",
       "4                                                NaN   \n",
       "\n",
       "                                   Task2-Prospective  \\\n",
       "0                                                NaN   \n",
       "1  http://purl.org/np/RAi2uAnMR8szlDZs7B7LNk1d7r3...   \n",
       "2                                                NaN   \n",
       "3  http://purl.org/np/RA30kwG-Np56bgbZ9lNTokuyGkc...   \n",
       "4                                                NaN   \n",
       "\n",
       "                                Task2-Restrospective  \\\n",
       "0                                                NaN   \n",
       "1  http://purl.org/np/RAx__dmVq87NsBKKPkHlGXRWFCk...   \n",
       "2                                                NaN   \n",
       "3                                                NaN   \n",
       "4                                                NaN   \n",
       "\n",
       "                                   Task3-Prospective  \\\n",
       "0                                                NaN   \n",
       "1  http://purl.org/np/RAPVzWqnGweopmSGFWfRY9lvI5b...   \n",
       "2                                                NaN   \n",
       "3  http://purl.org/np/RAOxqpn2U7NDdCwK5QXRNCbxJDU...   \n",
       "4                                                NaN   \n",
       "\n",
       "                                Task3-Restrospective  \n",
       "0                                                NaN  \n",
       "1  http://purl.org/np/RASXsABRKs397jj37Bhnsfjdx1F...  \n",
       "2                                                NaN  \n",
       "3                                                NaN  \n",
       "4                                                NaN  "
      ]
     },
     "execution_count": 38,
     "metadata": {},
     "output_type": "execute_result"
    }
   ],
   "source": [
    "userdata.head()"
   ]
  },
  {
   "cell_type": "code",
   "execution_count": 39,
   "metadata": {},
   "outputs": [],
   "source": [
    "def add_np_to_graph(graph, np_uri):\n",
    "    # Fetch the nanopublication at the specified URI\n",
    "    publication = client.fetch(np_uri)\n",
    "\n",
    "    # Print the RDF contents of the nanopublication\n",
    "    #print(publication)\n",
    "\n",
    "    # Iterate through all triples in the assertion graph\n",
    "    quads = publication.rdf.quads()\n",
    "        #print (s, p, o, g)\n",
    "    graph.addN(quads)\n",
    "    #graph = graph + publication.rdf\n",
    "    \n",
    "    return graph"
   ]
  },
  {
   "cell_type": "code",
   "execution_count": 40,
   "metadata": {},
   "outputs": [],
   "source": [
    "#publication = client.fetch(np_uri)"
   ]
  },
  {
   "cell_type": "code",
   "execution_count": 41,
   "metadata": {},
   "outputs": [],
   "source": [
    "graph = ConjunctiveGraph()\n",
    "#add_np_to_graph(graph, np_uri)"
   ]
  },
  {
   "cell_type": "code",
   "execution_count": 42,
   "metadata": {},
   "outputs": [],
   "source": [
    "#graph.serialize(format=)"
   ]
  },
  {
   "cell_type": "code",
   "execution_count": 43,
   "metadata": {},
   "outputs": [],
   "source": [
    "#for (s, p, o, g) in publication.rdf.quads():\n",
    "#    print (s, p, o, g)"
   ]
  },
  {
   "cell_type": "code",
   "execution_count": 44,
   "metadata": {},
   "outputs": [],
   "source": [
    "def add_assertion_to_graph(graph, np_uri):\n",
    "    # Fetch the nanopublication at the specified URI\n",
    "    publication = client.fetch(np_uri)\n",
    "\n",
    "    # Print the RDF contents of the nanopublication\n",
    "    #print(publication)\n",
    "\n",
    "    # Iterate through all triples in the assertion graph\n",
    "    for s, p, o in publication.assertion:\n",
    "        #print(s, p, o)\n",
    "        graph.add((s, p, o))\n",
    "    \n",
    "    return graph\n",
    "    "
   ]
  },
  {
   "cell_type": "code",
   "execution_count": 45,
   "metadata": {},
   "outputs": [
    {
     "data": {
      "text/plain": [
       "array(['http://purl.org/np/RAFSkDlUvnV9xhP31ueqV2aFTMj4gLoxeTl6Ruen6-IQw#plan',\n",
       "       'http://purl.org/np/RAByi9bgYI6l9PWw3ODWvL8Vtq2zdxsFfDC1NDr4PfcZU#plan',\n",
       "       nan,\n",
       "       'http://purl.org/np/RAzQQnMt8ty7Px-t_dFKjZkux5QaC_nxlAHGKq9RgPlTQ#plan',\n",
       "       'http://purl.org/np/RAzKMgWAP5wxH9xVpY6m5eEhT4Hxfuj1VdmaLxa4myeCU#plan',\n",
       "       'http://purl.org/np/RAAls4X6cmCsNVGEKwA8xkGkSsi4F3Co93wbyF_as5rCM#plan',\n",
       "       'http://purl.org/np/RAjgGhvqFiVxYhyQi5RMCzzXUoZ4CiNqylQ4RiIDfAvgE#plan',\n",
       "       'http://purl.org/np/RAXrUCE119ieuhcmMomv_kgqQ6y5trrgOC6n20y3wuc3g#plan',\n",
       "       'http://purl.org/np/RAZN4NXSt9m3J9ROAn78Kd6QnKKDntc777-CrRNxmZ3pI#plan',\n",
       "       'http://purl.org/np/RAPa6qbOcPTPFIushIcAjyk-zQJn9tf9fn6AuzAuiyMLw#plan',\n",
       "       'http://purl.org/np/RADu6Tkk8XtsvY7IazC7jJmMUDA3B65LcqgUM2CyTF11s#plan',\n",
       "       'http://purl.org/np/RA57vlIE5bv-Cz_e5fTnivvhVPl_B_gds9EAFcrkH3PtY#plan',\n",
       "       'http://purl.org/np/RAQrIj3HsKqGvjBpZHzSMYohTQxbbFCuwkd3QUD5Uj3kI#plan',\n",
       "       'http://purl.org/np/RA4BpjsscTEKIHVXHVX24b2krztdCvoLyFoPqRWd8tLbs#plan'],\n",
       "      dtype=object)"
      ]
     },
     "execution_count": 45,
     "metadata": {},
     "output_type": "execute_result"
    }
   ],
   "source": [
    "userdata['Task1-Prospective'].unique()"
   ]
  },
  {
   "cell_type": "code",
   "execution_count": null,
   "metadata": {},
   "outputs": [],
   "source": [
    "g1 = Graph()\n",
    "complete ={}\n",
    "# Search for all nanopublications containing the text 'fair'\n",
    "for prov_uri in userdata['Task2-Restrospective'].unique():\n",
    "    if str(prov_uri)=='nan': continue\n",
    "    print (prov_uri)\n",
    "    results = client.find_nanopubs_with_pattern(obj=prov_uri)\n",
    "    for p in results:\n",
    "        np_uri= p['np']\n",
    "        if np_uri not in complete:\n",
    "            print (prov_uri, p)\n",
    "            complete[np_uri]= True\n",
    "            g1= add_np_to_graph(g1, np_uri) "
   ]
  },
  {
   "cell_type": "code",
   "execution_count": null,
   "metadata": {},
   "outputs": [],
   "source": [
    "len(complete)"
   ]
  },
  {
   "cell_type": "code",
   "execution_count": 16,
   "metadata": {},
   "outputs": [],
   "source": [
    "g1.serialize('data/rdf/task1-prospective.ttl', format=\"turtle\")"
   ]
  },
  {
   "cell_type": "code",
   "execution_count": null,
   "metadata": {},
   "outputs": [],
   "source": [
    "qtext= \"\"\" \n",
    "PREFIX rdf: <http://www.w3.org/1999/02/22-rdf-syntax-ns#>\n",
    "PREFIX rdfs: <http://www.w3.org/2000/01/rdf-schema#>\n",
    "PREFIX p-plan: <http://purl.org/net/p-plan#> \n",
    "select DISTINCT ?s where { \n",
    "?s p-plan:isStepOfPlan  ?o .\n",
    "}\n",
    "\"\"\""
   ]
  },
  {
   "cell_type": "code",
   "execution_count": 92,
   "metadata": {},
   "outputs": [],
   "source": [
    "def retrieve_user_data(task_url_list, output_file):\n",
    "    g1 = ConjunctiveGraph()\n",
    "    complete ={}\n",
    "    # Search for all nanopublications containing the text 'fair'\n",
    "    for prov_uri in task_url_list:\n",
    "        if str(prov_uri)=='nan': continue\n",
    "        results = client.find_nanopubs_with_pattern(obj=prov_uri)\n",
    "        for p in results:\n",
    "            np_uri= p['np']\n",
    "            if np_uri not in complete:\n",
    "                #print (prov_uri, p)\n",
    "                complete[np_uri]= True\n",
    "                g1= add_np_to_graph(g1, np_uri) \n",
    "    print (len(complete))\n",
    "    g1.serialize(output_file, format=\"nquads\")\n",
    "    return g1"
   ]
  },
  {
   "cell_type": "code",
   "execution_count": 104,
   "metadata": {},
   "outputs": [],
   "source": [
    "whole_graph = ConjunctiveGraph()"
   ]
  },
  {
   "cell_type": "code",
   "execution_count": 105,
   "metadata": {},
   "outputs": [
    {
     "name": "stdout",
     "output_type": "stream",
     "text": [
      "21\n"
     ]
    }
   ],
   "source": [
    "g =retrieve_user_data(userdata['Task1-Prospective'].unique(), output_file='data/rdf/task1-prospective.nq')\n",
    "whole_graph.addN(g.quads())"
   ]
  },
  {
   "cell_type": "code",
   "execution_count": 106,
   "metadata": {},
   "outputs": [
    {
     "name": "stdout",
     "output_type": "stream",
     "text": [
      "21\n"
     ]
    }
   ],
   "source": [
    "g= retrieve_user_data(userdata['Task2-Prospective'].unique(), output_file='data/rdf/task2-prospective.nq')\n",
    "whole_graph.addN(g.quads())"
   ]
  },
  {
   "cell_type": "code",
   "execution_count": 107,
   "metadata": {},
   "outputs": [
    {
     "name": "stdout",
     "output_type": "stream",
     "text": [
      "18\n"
     ]
    }
   ],
   "source": [
    "g= retrieve_user_data(userdata['Task3-Prospective'].unique(), output_file='data/rdf/task3-prospective.nq')\n",
    "whole_graph.addN(g.quads())"
   ]
  },
  {
   "cell_type": "code",
   "execution_count": 108,
   "metadata": {},
   "outputs": [
    {
     "name": "stdout",
     "output_type": "stream",
     "text": [
      "8\n"
     ]
    }
   ],
   "source": [
    "g= retrieve_user_data(userdata['Task1-Restrospective'].unique(), output_file='data/rdf/task1-Restrospective.nq')\n",
    "whole_graph.addN(g.quads())"
   ]
  },
  {
   "cell_type": "code",
   "execution_count": 109,
   "metadata": {},
   "outputs": [
    {
     "name": "stdout",
     "output_type": "stream",
     "text": [
      "9\n"
     ]
    }
   ],
   "source": [
    "g= retrieve_user_data(userdata['Task2-Restrospective'].unique(), output_file='data/rdf/task2-Restrospective.nq')\n",
    "whole_graph.addN(g.quads())"
   ]
  },
  {
   "cell_type": "code",
   "execution_count": 110,
   "metadata": {},
   "outputs": [
    {
     "name": "stdout",
     "output_type": "stream",
     "text": [
      "8\n"
     ]
    }
   ],
   "source": [
    "g= retrieve_user_data(userdata['Task3-Restrospective'].unique(), output_file='data/rdf/task3-Restrospective.nq')\n",
    "whole_graph.addN(g.quads())"
   ]
  },
  {
   "cell_type": "code",
   "execution_count": 111,
   "metadata": {},
   "outputs": [],
   "source": [
    "whole_graph.serialize('data/rdf/whole-user-nanopublications.nq', format=\"nquads\")"
   ]
  },
  {
   "cell_type": "code",
   "execution_count": null,
   "metadata": {},
   "outputs": [],
   "source": []
  }
 ],
 "metadata": {
  "kernelspec": {
   "display_name": "Python 3",
   "language": "python",
   "name": "python3"
  },
  "language_info": {
   "codemirror_mode": {
    "name": "ipython",
    "version": 3
   },
   "file_extension": ".py",
   "mimetype": "text/x-python",
   "name": "python",
   "nbconvert_exporter": "python",
   "pygments_lexer": "ipython3",
   "version": "3.8.3"
  }
 },
 "nbformat": 4,
 "nbformat_minor": 4
}
