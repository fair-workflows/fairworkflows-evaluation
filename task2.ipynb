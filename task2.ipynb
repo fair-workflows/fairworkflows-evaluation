{
 "cells": [
  {
   "cell_type": "code",
   "execution_count": 2,
   "metadata": {},
   "outputs": [],
   "source": [
    "from fairworkflows import *"
   ]
  },
  {
   "cell_type": "code",
   "execution_count": 5,
   "metadata": {},
   "outputs": [],
   "source": [
    "@is_fairstep(label='Add blur to image')\n",
    "def blur(img):\n",
    "    from PIL import Image, ImageFilter\n",
    "    return img.filter(ImageFilter.BLUR)"
   ]
  },
  {
   "cell_type": "code",
   "execution_count": 4,
   "metadata": {},
   "outputs": [],
   "source": [
    "@is_fairstep(label='Make white background of image transparent')\n",
    "def white_to_transparency(img):\n",
    "    from PIL import Image\n",
    "    img = img.convert(\"RGBA\")\n",
    "    data = img.getdata()\n",
    "    new_data = []\n",
    "    for item in data:\n",
    "        if item[0] == 255 and item[1] == 255 and item[2] == 255:\n",
    "            new_data.append((255, 255, 255, 0))\n",
    "        else:\n",
    "            new_data.append(item)\n",
    "    img.putdata(new_data)\n",
    "    return img"
   ]
  },
  {
   "cell_type": "code",
   "execution_count": 7,
   "metadata": {},
   "outputs": [],
   "source": [
    "@is_fairstep(label='Overlay image with another (partly transparent) one')\n",
    "def overlay(bg_img, fg_img):\n",
    "    from PIL import Image\n",
    "    img = bg_img.copy()\n",
    "    fg_img = fg_img.convert(\"RGBA\")\n",
    "    img.paste(fg_img, (0, 0), fg_img)\n",
    "    return img"
   ]
  },
  {
   "cell_type": "code",
   "execution_count": 8,
   "metadata": {},
   "outputs": [],
   "source": [
    "@is_fairstep(label='Inverting the colors of an image')\n",
    "def invert_colors(img):\n",
    "    from PIL import Image, ImageOps\n",
    "    return ImageOps.invert(img)"
   ]
  },
  {
   "cell_type": "code",
   "execution_count": 9,
   "metadata": {},
   "outputs": [],
   "source": [
    "@is_fairstep(label='Rotating an image represented by 90 degrees')\n",
    "def rotate_image(img):\n",
    "    from PIL import Image\n",
    "    return img.transpose(Image.ROTATE_90)"
   ]
  },
  {
   "cell_type": "code",
   "execution_count": 10,
   "metadata": {},
   "outputs": [
    {
     "name": "stdout",
     "output_type": "stream",
     "text": [
      "Published to http://purl.org/np/RAFHwmukK327MjHS25AbG-f5ok8bcYjcPRm7kAAmpBgtc\n",
      "Published concept to http://purl.org/np/RAFHwmukK327MjHS25AbG-f5ok8bcYjcPRm7kAAmpBgtc#step\n"
     ]
    }
   ],
   "source": [
    "# blur._fairstep.publish_as_nanopub()"
   ]
  },
  {
   "cell_type": "code",
   "execution_count": 11,
   "metadata": {},
   "outputs": [
    {
     "name": "stdout",
     "output_type": "stream",
     "text": [
      "Published to http://purl.org/np/RArWETwZLOap_HslX7aZOrOeUGNGQUU4kxFhzHbn74rB4\n",
      "Published concept to http://purl.org/np/RArWETwZLOap_HslX7aZOrOeUGNGQUU4kxFhzHbn74rB4#step\n"
     ]
    }
   ],
   "source": [
    "# white_to_transparency._fairstep.publish_as_nanopub()"
   ]
  },
  {
   "cell_type": "code",
   "execution_count": 12,
   "metadata": {},
   "outputs": [
    {
     "name": "stdout",
     "output_type": "stream",
     "text": [
      "Published to http://purl.org/np/RA778IqDJa61TCSJwJw1w2OD2agYS1S3CPySGeD7ts2-Y\n",
      "Published concept to http://purl.org/np/RA778IqDJa61TCSJwJw1w2OD2agYS1S3CPySGeD7ts2-Y#step\n"
     ]
    }
   ],
   "source": [
    "# overlay._fairstep.publish_as_nanopub()"
   ]
  },
  {
   "cell_type": "code",
   "execution_count": 13,
   "metadata": {},
   "outputs": [
    {
     "name": "stdout",
     "output_type": "stream",
     "text": [
      "Published to http://purl.org/np/RAy_jSF2DvGXu_vYCOhwgH3aPmxtRa_99lGIQJGBPeRCI\n",
      "Published concept to http://purl.org/np/RAy_jSF2DvGXu_vYCOhwgH3aPmxtRa_99lGIQJGBPeRCI#step\n"
     ]
    }
   ],
   "source": [
    "# invert_colors._fairstep.publish_as_nanopub()"
   ]
  },
  {
   "cell_type": "code",
   "execution_count": 14,
   "metadata": {},
   "outputs": [
    {
     "name": "stdout",
     "output_type": "stream",
     "text": [
      "Published to http://purl.org/np/RAhktiJRIPegCgGhGRI4BgBVMfGRf7_6lOIf4em7sCPpw\n",
      "Published concept to http://purl.org/np/RAhktiJRIPegCgGhGRI4BgBVMfGRf7_6lOIf4em7sCPpw#step\n"
     ]
    }
   ],
   "source": [
    "# rotate_image._fairstep.publish_as_nanopub()"
   ]
  },
  {
   "cell_type": "code",
   "execution_count": null,
   "metadata": {},
   "outputs": [],
   "source": []
  }
 ],
 "metadata": {
  "kernelspec": {
   "display_name": "Python 3",
   "language": "python",
   "name": "python3"
  },
  "language_info": {
   "codemirror_mode": {
    "name": "ipython",
    "version": 3
   },
   "file_extension": ".py",
   "mimetype": "text/x-python",
   "name": "python",
   "nbconvert_exporter": "python",
   "pygments_lexer": "ipython3",
   "version": "3.8.6"
  }
 },
 "nbformat": 4,
 "nbformat_minor": 4
}
