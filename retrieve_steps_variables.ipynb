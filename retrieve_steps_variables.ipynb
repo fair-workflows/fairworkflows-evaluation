{
 "cells": [
  {
   "cell_type": "code",
   "execution_count": 7,
   "metadata": {},
   "outputs": [],
   "source": [
    "from nanopub import Publication, NanopubClient\n",
    "from rdflib import Graph, URIRef, RDF, FOAF, ConjunctiveGraph\n",
    "import pandas as pd"
   ]
  },
  {
   "cell_type": "code",
   "execution_count": 4,
   "metadata": {},
   "outputs": [],
   "source": [
    "from nanopub import NanopubClient\n",
    "client = NanopubClient()"
   ]
  },
  {
   "cell_type": "code",
   "execution_count": 5,
   "metadata": {},
   "outputs": [],
   "source": [
    "def add_assertion_to_graph(graph, np_uri):\n",
    "    # Fetch the nanopublication at the specified URI\n",
    "    publication = client.fetch(np_uri)\n",
    "\n",
    "    # Print the RDF contents of the nanopublication\n",
    "    #print(publication)\n",
    "\n",
    "    # Iterate through all triples in the assertion graph\n",
    "    for s, p, o in publication.assertion:\n",
    "        #print(s, p, o)\n",
    "        graph.add((s, p, o))\n",
    "    \n",
    "    return graph\n",
    "\n",
    "def add_np_to_graph(graph, np_uri):\n",
    "    # Fetch the nanopublication at the specified URI\n",
    "    publication = client.fetch(np_uri)\n",
    "\n",
    "    # Print the RDF contents of the nanopublication\n",
    "    #print(publication)\n",
    "\n",
    "    # Iterate through all triples in the assertion graph\n",
    "    quads = publication.rdf.quads()\n",
    "        #print (s, p, o, g)\n",
    "    graph.addN(quads)\n",
    "    #graph = graph + publication.rdf\n",
    "    \n",
    "    return graph\n",
    "    "
   ]
  },
  {
   "cell_type": "code",
   "execution_count": 8,
   "metadata": {},
   "outputs": [],
   "source": [
    "g_schema = ConjunctiveGraph()"
   ]
  },
  {
   "cell_type": "code",
   "execution_count": 9,
   "metadata": {},
   "outputs": [],
   "source": [
    "g_schema.load('data/rdf/whole-user-nanopublications.nq', format=\"nquads\")"
   ]
  },
  {
   "cell_type": "code",
   "execution_count": 10,
   "metadata": {},
   "outputs": [],
   "source": [
    "qtext= \"\"\" \n",
    "PREFIX rdf: <http://www.w3.org/1999/02/22-rdf-syntax-ns#>\n",
    "PREFIX rdfs: <http://www.w3.org/2000/01/rdf-schema#>\n",
    "PREFIX p-plan: <http://purl.org/net/p-plan#> \n",
    "select DISTINCT ?s where { \n",
    "?s p-plan:isStepOfPlan  ?o .\n",
    "}\n",
    "\"\"\""
   ]
  },
  {
   "cell_type": "code",
   "execution_count": 11,
   "metadata": {},
   "outputs": [],
   "source": [
    "results = g_schema.query(qtext)"
   ]
  },
  {
   "cell_type": "code",
   "execution_count": null,
   "metadata": {},
   "outputs": [],
   "source": [
    "g1 = ConjunctiveGraph()\n",
    "complete ={}\n",
    "for r in results:\n",
    "    step_uri = str(r[0])\n",
    "    print (str(r[0]))\n",
    "    results = client.find_nanopubs_with_pattern(subj=step_uri)\n",
    "    for p in results:\n",
    "        np_uri= p['np']\n",
    "        if np_uri not in complete:\n",
    "            complete[np_uri] = True\n",
    "            #print (p)\n",
    "            g1= add_np_to_graph(g1, np_uri) \n",
    "    #g_biolink.add(r)"
   ]
  },
  {
   "cell_type": "code",
   "execution_count": 13,
   "metadata": {},
   "outputs": [],
   "source": [
    "g1.serialize('data/rdf/steps.nq', format=\"nquads\")"
   ]
  },
  {
   "cell_type": "code",
   "execution_count": 14,
   "metadata": {},
   "outputs": [],
   "source": [
    "qtext= \"\"\" \n",
    "PREFIX p-plan: <http://purl.org/net/p-plan#> \n",
    "PREFIX prov: <http://www.w3.org/ns/prov#>\n",
    "select DISTINCT ?o where { \n",
    "\t?s prov:hasMember  ?o .\n",
    "}\n",
    "\"\"\""
   ]
  },
  {
   "cell_type": "code",
   "execution_count": 15,
   "metadata": {},
   "outputs": [],
   "source": [
    "results = g_schema.query(qtext)"
   ]
  },
  {
   "cell_type": "code",
   "execution_count": 16,
   "metadata": {},
   "outputs": [
    {
     "name": "stdout",
     "output_type": "stream",
     "text": [
      "http://purl.org/np/RA5-1Jo9n_axLx4X1xBh01XhdYi20Su665IfDXKjWGkBU#fairstepprov\n",
      "http://purl.org/np/RAfZ7LSIRGRuICajU6E2xdFXvBJ2-PaxJ6Bi41RKQpius#fairstepprov\n",
      "http://purl.org/np/RAWBz1sWA7I31xDQxs-mTRD-NL9N2wtWZWzFnQ-kmbpAc#fairstepprov\n",
      "http://purl.org/np/RA1Bbf_4l_pnqGqlB1L1SiMZJJ8ufc9FnztW8hJTYx2Ws#fairstepprov\n",
      "http://purl.org/np/RAwXd3TrHIMA9mcBX7vr8WtxAdE-arwzMxpKO3Q299KBc#fairstepprov\n",
      "http://purl.org/np/RAr9-lTqsMnQrBXsmwME12mMm0AEwgcMtd9b60FOX1B_M#fairstepprov\n",
      "http://purl.org/np/RAbnwD80Ouc754fAMxlhMBsz-S_e8r86UugoqoLTIibWY#fairstepprov\n",
      "http://purl.org/np/RA8rXS4UI0F25WuGxCUNMf_29I-61KSJ_ABgNVsplCde0#fairstepprov\n",
      "http://purl.org/np/RAtMe5-T5JIuZ9YH00kUQ81eIJzlwwjK5DuE9qXmkgtj8#fairstepprov\n",
      "http://purl.org/np/RAtyW_B4u1By6yAJIwNclBgC3QshBbhdB00jSbm8QhemA#fairstepprov\n",
      "http://purl.org/np/RA2xf0C-EtBf3hoM0_z7kiFOafJguNdlUpixw9UGSJJss#fairstepprov\n",
      "http://purl.org/np/RAqqu-mKFGYyQIvCqhESHdbuCd6HSNq7Y17hqupbeLM98#fairstepprov\n",
      "http://purl.org/np/RAVwq0rvrWxIByIeR8QkzrL3kr5IWsQDe1O07lbrVRyx8#fairstepprov\n",
      "http://purl.org/np/RAIeX8f6MH02XVvCCJOglhG0qRKT_DtEgPh-jBWhqTLqk#fairstepprov\n",
      "http://purl.org/np/RAuUf4DZ-gMB_o7jfJh-XQGL3BV2XGVwEmzgy_KSNtDII#fairstepprov\n",
      "http://purl.org/np/RA22H2rW6hXYf4S6EbwNlMVLbEgm539un9cf-x6MyAFE0#fairstepprov\n",
      "http://purl.org/np/RAu-MdA66VJSes3zf1DpNzefOTwWtROuxUwSqYG_z9ulY#fairstepprov\n",
      "http://purl.org/np/RAY54Ob8JOG5kYAkoQSfW9Ld8bJEYUUI1iRF3GjZSh4TA#fairstepprov\n",
      "http://purl.org/np/RAkTpah34nxtwAU4hUmjBPq7dzEm6T0jyxXCLk0egOqKE#fairstepprov\n",
      "http://purl.org/np/RAG9cRHVkGFciWRDl9ddBmBR6VZE0b8HD7u12kBt-Eza8#fairstepprov\n",
      "http://purl.org/np/RAoCitU3Bui1YclbdLycuvn6E5V3fIH6Jz4qTzmjhxuF8#fairstepprov\n",
      "http://purl.org/np/RAIt_5030yc-TzyI-r5f7XcZSgecvlIBmDqlo-hfX_yi8#fairstepprov\n",
      "http://purl.org/np/RAxk0ECGr9oiPRFuIvb6Zcz1Fma4mF_IjLNOMI0ZA279o#fairstepprov\n",
      "http://purl.org/np/RA16-m0CuHhiGjbs4wHl-b4Z6iiZsT0T6H1SRkd9kcki0#fairstepprov\n",
      "http://purl.org/np/RAoiYTcfc6HhU2oP90IF0J75un3CRkfJ7ODtT5sLQt1IM#fairstepprov\n",
      "http://purl.org/np/RAnYu3LczvoH_67NfZo0-RKueYxrIEeR33GcA6wpDpK3A#fairstepprov\n",
      "http://purl.org/np/RAK765HxwtI07bt7Bkzwh2YOG_070_KfbailomgLzoWkw#fairstepprov\n",
      "http://purl.org/np/RAadFCJ4HjruGfQUxgzAzk5EIJsuuEhk4t8B5ldNRy34w#fairstepprov\n",
      "http://purl.org/np/RAbS8pdJU-FVkmTaECaAUmGcCdpPK8OW5enc1PF7GG7co#fairstepprov\n",
      "http://purl.org/np/RAi-2W9paPJ7nwBFDzKM_N0LOh1X0uKIR9aL8lHVC7oTI#fairstepprov\n",
      "http://purl.org/np/RAqecoD8pEm_0ohBpXJbIQTHgJiE1vQ8Z_BNXpvzGUGdw#fairstepprov\n",
      "http://purl.org/np/RACLZ5zv2sfLBmolh7tmf8J0Vkr_PK_11KfauzOynS5ds#fairstepprov\n",
      "http://purl.org/np/RA8gUm-seyqDJBC6HLGJQwqOa6Vd6IwrPGCOsdTdcFxPg#fairstepprov\n",
      "http://purl.org/np/RAL5ZamgPA2NEzb3Co8FeCeYzKdxEm42SM0sajoAFGTRY#fairstepprov\n",
      "http://purl.org/np/RA563FlhnQt0of0HBclleuVjPSitlFjEXeBBkUPkrHYro#fairstepprov\n",
      "http://purl.org/np/RADn5unEwNB2OTOVPQG6kOW-Lvc6TaQWkV2f87JW5dRb0#fairstepprov\n",
      "http://purl.org/np/RAX2y5Qtc4Whi4OyVCyjpGT5rKA_1Re3x2Qi8VXqlaQcU#fairstepprov\n",
      "http://purl.org/np/RAvdL9gbOk_swOCbrlOuVftrFQv804-0Ac263TjkDsNC8#fairstepprov\n",
      "http://purl.org/np/RAXPHwWmAzumLqR0T2Pg6aGbA34mdEz6oQZ4D1j0rdn1A#fairstepprov\n",
      "http://purl.org/np/RAblmNZu2tS-D_JnVowk7dYoKm_DsOWNH9ql9kP_5aSY4#fairstepprov\n",
      "http://purl.org/np/RA8Y2aIwW2AJhWcNF7mqsRibg322_aRyv-kARNkSdTHKw#fairstepprov\n",
      "http://purl.org/np/RA8yBG6ec2wSr8LnCTUb_froM8yyqhFNmYguf2ocuIvUw#fairstepprov\n",
      "http://purl.org/np/RAX4Nf01FJ3qowB_dAAT-swNVSKICAnnQD8UK7E3p2Zh4#fairstepprov\n",
      "http://purl.org/np/RAl3sUlOIDE6lkvmZI2QA7bbB4WVMB7dCo0Ui8yaA61_8#fairstepprov\n",
      "http://purl.org/np/RAe5ynA1TgBy0pyAIN0bMSmMIgzcBQbMQ-QjKtK33t6JE#fairstepprov\n",
      "http://purl.org/np/RATNzH35AL6kyENRCrpgDvUH2tSzb1jGI5RquVbJEg00A#fairstepprov\n",
      "http://purl.org/np/RAzdOC-8nGElwgv94G3BBZLUG0zGspoM8Fq5t2K6GmNKI#fairstepprov\n",
      "http://purl.org/np/RAdbZUy1HQZ5IHD68ljgHAFiavIla4dsDZdAupvqt9u8A#fairstepprov\n",
      "http://purl.org/np/RA5L1uAVBvihJBx3n3lK7kEZJLLtbVmlOKJW8KbUXfMng#fairstepprov\n",
      "http://purl.org/np/RAxjQPqxG6Bc0YMI2KUHIGsV68ikqEALEMLL62At1FM34#fairstepprov\n",
      "http://purl.org/np/RAJh5KUiYmsfUrWyf-8eWWNsDI75CpWqr1b5tzfZsg-XQ#fairstepprov\n",
      "http://purl.org/np/RA2R1bQIpR9GYLeK9UhsH5cKzpyjOdRfggaF16gx6Gh9Y#fairstepprov\n",
      "http://purl.org/np/RAbl3ZUb97j0oImVm9fph-MJkvU4pwOf751IYLfKHoKQE#fairstepprov\n",
      "http://purl.org/np/RANmJOlR8PLT9Z-nT2Zf233NEcG6JNuzl-dManJPUMeck#fairstepprov\n",
      "http://purl.org/np/RADCAOZFSVdfAFt2AgIgxKCI5qqtwe03CYzs2gWf7GOEA#fairstepprov\n",
      "http://purl.org/np/RA4ay-HFfwNen-R-Nc554TgnvjbCiXMV_ZVA-R8zTEdN0#fairstepprov\n",
      "http://purl.org/np/RAZroWpoxlYry-OWiIKm5ogLKf6Epk5u0sBqlBra_4UBI#fairstepprov\n",
      "http://purl.org/np/RAVcRasCd-TG3eaBnUkvN5sT8HADIBRifvU2Mgzg_DmAQ#fairstepprov\n",
      "http://purl.org/np/RAMZI0hl3-lPqIrEU3L1WBFSxqtzYWS6pYPGDVsbLtR80#fairstepprov\n",
      "http://purl.org/np/RAnsD7afc9vLK8Oylf9bp0IdI5VFqywzLyNCbDO7no1yw#fairstepprov\n",
      "http://purl.org/np/RAteQixN28k7fzJ-RhUXDaRQ3IubZyu8DFrYW1brCec6A#fairstepprov\n",
      "http://purl.org/np/RAgas0Y_C3bLsr8VNsKtx4pZw21D6E6-_W1hJdBTVGSzQ#fairstepprov\n",
      "http://purl.org/np/RA-tzMKqfSyYbs6_0VLg2Skix3jUnVnx05j6MWs0UrRFw#fairstepprov\n",
      "http://purl.org/np/RAgr1goOz9RlqM3gV2A_zEHp5LprOFZLqTrXjiOGLZDUc#fairstepprov\n",
      "http://purl.org/np/RA9r85CZsozTwtBcdcqtWxxZ0nfuHuCqhOjRKeZ7Ye4Ms#fairstepprov\n",
      "http://purl.org/np/RAthZauL55UIe1qzuYT3aPRS0Ub7sIV26AxcLpe29tXpo#fairstepprov\n",
      "http://purl.org/np/RAMzvTnudv7bzqWynnxkZ52k0J4Li2aLqld6hfhInonow#fairstepprov\n",
      "http://purl.org/np/RAooJ0t2P-3tej2I8jzUMwj_T8EhtkHIU1ZlcZp_zxMJ0#fairstepprov\n",
      "http://purl.org/np/RALKIXKTXdNXZFVz35Dsx1lV5vYa2f714Jvrzaq9KJ9tc#fairstepprov\n",
      "http://purl.org/np/RAzSC7wCF8mUYPt1t8_HOT02xzc3H7_0CayvFlx_8-w4s#fairstepprov\n"
     ]
    }
   ],
   "source": [
    "g1 = ConjunctiveGraph()\n",
    "complete ={}\n",
    "for r in results:\n",
    "    step_uri = str(r[0])\n",
    "    print (str(r[0]))\n",
    "    results = client.find_nanopubs_with_pattern(subj=step_uri)\n",
    "    for p in results:\n",
    "        np_uri= p['np']\n",
    "        if np_uri not in complete:\n",
    "            complete[np_uri] = True\n",
    "            #print (p)\n",
    "            g1= add_assertion_to_graph(g1, np_uri) \n",
    "    #g_biolink.add(r)"
   ]
  },
  {
   "cell_type": "code",
   "execution_count": 17,
   "metadata": {},
   "outputs": [],
   "source": [
    "g1.serialize('data/rdf/steps_prov.nq', format=\"nquads\")"
   ]
  },
  {
   "cell_type": "code",
   "execution_count": null,
   "metadata": {},
   "outputs": [],
   "source": []
  }
 ],
 "metadata": {
  "kernelspec": {
   "display_name": "Python 3",
   "language": "python",
   "name": "python3"
  },
  "language_info": {
   "codemirror_mode": {
    "name": "ipython",
    "version": 3
   },
   "file_extension": ".py",
   "mimetype": "text/x-python",
   "name": "python",
   "nbconvert_exporter": "python",
   "pygments_lexer": "ipython3",
   "version": "3.8.3"
  }
 },
 "nbformat": 4,
 "nbformat_minor": 4
}
